{
 "cells": [
  {
   "cell_type": "markdown",
   "metadata": {},
   "source": [
    "# SSIM for the same model and images\n",
    "\n",
    "In this notebook, we calculate SSIM on images of SHAP and GradCAM explanations which were produced from the same model running on the same images. This is for sanity check #1, the reproducibility of the methods.\n",
    "\n",
    "The output from the explainability methods are located in the folders `Explanations_ModelSearch2_Seed5_1` and `Explanations_ModelSearch2_Seed5_2`."
   ]
  },
  {
   "cell_type": "code",
   "execution_count": 1,
   "metadata": {},
   "outputs": [],
   "source": [
    "%matplotlib inline\n",
    "import pandas as pd\n",
    "import numpy as np \n",
    "from PIL import Image\n",
    "\n",
    "from skimage.measure import compare_ssim as ssim\n",
    "import os\n",
    "from glob import glob\n",
    "import matplotlib.pyplot as plt"
   ]
  },
  {
   "cell_type": "code",
   "execution_count": 2,
   "metadata": {},
   "outputs": [],
   "source": [
    "path_dict = {}"
   ]
  },
  {
   "cell_type": "code",
   "execution_count": 3,
   "metadata": {},
   "outputs": [],
   "source": [
    "for i in range(1,3):\n",
    "    path_dict[i-1] = glob('Explanations_ModelSearch2_Seed5_{}/*.png'.format(i),recursive=True)"
   ]
  },
  {
   "cell_type": "code",
   "execution_count": 4,
   "metadata": {
    "scrolled": false
   },
   "outputs": [
    {
     "data": {
      "text/plain": [
       "399"
      ]
     },
     "execution_count": 4,
     "metadata": {},
     "output_type": "execute_result"
    }
   ],
   "source": [
    "len(path_dict[0])"
   ]
  },
  {
   "cell_type": "code",
   "execution_count": 5,
   "metadata": {},
   "outputs": [],
   "source": [
    "path_frame = pd.DataFrame.from_dict(path_dict, orient = 'index')\n",
    "path_frame = path_frame.transpose()"
   ]
  },
  {
   "cell_type": "markdown",
   "metadata": {},
   "source": [
    "Load all images"
   ]
  },
  {
   "cell_type": "code",
   "execution_count": 6,
   "metadata": {
    "scrolled": false
   },
   "outputs": [],
   "source": [
    "for i in path_dict.keys():\n",
    "    image_list = []\n",
    "    path_list = path_frame[i].tolist()\n",
    "    for j in path_list:\n",
    "        image_list.append(np.asarray(Image.open(j)))\n",
    "    path_frame['Folder_{}_image'.format(i)] = image_list"
   ]
  },
  {
   "cell_type": "code",
   "execution_count": 7,
   "metadata": {
    "scrolled": true
   },
   "outputs": [
    {
     "data": {
      "text/html": [
       "<div>\n",
       "<style scoped>\n",
       "    .dataframe tbody tr th:only-of-type {\n",
       "        vertical-align: middle;\n",
       "    }\n",
       "\n",
       "    .dataframe tbody tr th {\n",
       "        vertical-align: top;\n",
       "    }\n",
       "\n",
       "    .dataframe thead th {\n",
       "        text-align: right;\n",
       "    }\n",
       "</style>\n",
       "<table border=\"1\" class=\"dataframe\">\n",
       "  <thead>\n",
       "    <tr style=\"text-align: right;\">\n",
       "      <th></th>\n",
       "      <th>0</th>\n",
       "      <th>1</th>\n",
       "      <th>Folder_0_image</th>\n",
       "      <th>Folder_1_image</th>\n",
       "    </tr>\n",
       "  </thead>\n",
       "  <tbody>\n",
       "    <tr>\n",
       "      <th>0</th>\n",
       "      <td>Explanations_ModelSearch2_Seed5_1\\id_0_Grad.png</td>\n",
       "      <td>Explanations_ModelSearch2_Seed5_2\\id_0_Grad.png</td>\n",
       "      <td>[[[63, 76, 175, 255], [65, 78, 179, 255], [65,...</td>\n",
       "      <td>[[[63, 76, 175, 255], [65, 78, 179, 255], [65,...</td>\n",
       "    </tr>\n",
       "    <tr>\n",
       "      <th>1</th>\n",
       "      <td>Explanations_ModelSearch2_Seed5_1\\id_0_SHAP.png</td>\n",
       "      <td>Explanations_ModelSearch2_Seed5_2\\id_0_SHAP.png</td>\n",
       "      <td>[[[115, 150, 118, 255], [118, 152, 122, 255], ...</td>\n",
       "      <td>[[[152, 132, 128, 255], [156, 135, 134, 255], ...</td>\n",
       "    </tr>\n",
       "    <tr>\n",
       "      <th>2</th>\n",
       "      <td>Explanations_ModelSearch2_Seed5_1\\id_100_Grad.png</td>\n",
       "      <td>Explanations_ModelSearch2_Seed5_2\\id_100_Grad.png</td>\n",
       "      <td>[[[89, 77, 164, 255], [88, 76, 162, 255], [88,...</td>\n",
       "      <td>[[[89, 77, 164, 255], [88, 76, 162, 255], [88,...</td>\n",
       "    </tr>\n",
       "    <tr>\n",
       "      <th>3</th>\n",
       "      <td>Explanations_ModelSearch2_Seed5_1\\id_100_SHAP.png</td>\n",
       "      <td>Explanations_ModelSearch2_Seed5_2\\id_100_SHAP.png</td>\n",
       "      <td>[[[193, 174, 193, 255], [191, 173, 190, 255], ...</td>\n",
       "      <td>[[[133, 181, 157, 255], [132, 181, 155, 255], ...</td>\n",
       "    </tr>\n",
       "    <tr>\n",
       "      <th>4</th>\n",
       "      <td>Explanations_ModelSearch2_Seed5_1\\id_101_Grad.png</td>\n",
       "      <td>Explanations_ModelSearch2_Seed5_2\\id_101_Grad.png</td>\n",
       "      <td>[[[93, 154, 102, 255], [96, 159, 109, 255], [9...</td>\n",
       "      <td>[[[93, 154, 102, 255], [96, 159, 109, 255], [9...</td>\n",
       "    </tr>\n",
       "  </tbody>\n",
       "</table>\n",
       "</div>"
      ],
      "text/plain": [
       "                                                   0  \\\n",
       "0    Explanations_ModelSearch2_Seed5_1\\id_0_Grad.png   \n",
       "1    Explanations_ModelSearch2_Seed5_1\\id_0_SHAP.png   \n",
       "2  Explanations_ModelSearch2_Seed5_1\\id_100_Grad.png   \n",
       "3  Explanations_ModelSearch2_Seed5_1\\id_100_SHAP.png   \n",
       "4  Explanations_ModelSearch2_Seed5_1\\id_101_Grad.png   \n",
       "\n",
       "                                                   1  \\\n",
       "0    Explanations_ModelSearch2_Seed5_2\\id_0_Grad.png   \n",
       "1    Explanations_ModelSearch2_Seed5_2\\id_0_SHAP.png   \n",
       "2  Explanations_ModelSearch2_Seed5_2\\id_100_Grad.png   \n",
       "3  Explanations_ModelSearch2_Seed5_2\\id_100_SHAP.png   \n",
       "4  Explanations_ModelSearch2_Seed5_2\\id_101_Grad.png   \n",
       "\n",
       "                                      Folder_0_image  \\\n",
       "0  [[[63, 76, 175, 255], [65, 78, 179, 255], [65,...   \n",
       "1  [[[115, 150, 118, 255], [118, 152, 122, 255], ...   \n",
       "2  [[[89, 77, 164, 255], [88, 76, 162, 255], [88,...   \n",
       "3  [[[193, 174, 193, 255], [191, 173, 190, 255], ...   \n",
       "4  [[[93, 154, 102, 255], [96, 159, 109, 255], [9...   \n",
       "\n",
       "                                      Folder_1_image  \n",
       "0  [[[63, 76, 175, 255], [65, 78, 179, 255], [65,...  \n",
       "1  [[[152, 132, 128, 255], [156, 135, 134, 255], ...  \n",
       "2  [[[89, 77, 164, 255], [88, 76, 162, 255], [88,...  \n",
       "3  [[[133, 181, 157, 255], [132, 181, 155, 255], ...  \n",
       "4  [[[93, 154, 102, 255], [96, 159, 109, 255], [9...  "
      ]
     },
     "execution_count": 7,
     "metadata": {},
     "output_type": "execute_result"
    }
   ],
   "source": [
    "path_frame.head()"
   ]
  },
  {
   "cell_type": "code",
   "execution_count": 8,
   "metadata": {},
   "outputs": [],
   "source": [
    "for a in range(2):\n",
    "    path_frame['SSIM_0_to_{}'.format(a)] = np.nan"
   ]
  },
  {
   "cell_type": "markdown",
   "metadata": {},
   "source": [
    "Calculate all SSIM values"
   ]
  },
  {
   "cell_type": "code",
   "execution_count": 9,
   "metadata": {
    "scrolled": true
   },
   "outputs": [
    {
     "name": "stderr",
     "output_type": "stream",
     "text": [
      "C:\\Users\\s4435302\\AppData\\Local\\Continuum\\anaconda3\\lib\\site-packages\\ipykernel_launcher.py:5: SettingWithCopyWarning: \n",
      "A value is trying to be set on a copy of a slice from a DataFrame\n",
      "\n",
      "See the caveats in the documentation: http://pandas.pydata.org/pandas-docs/stable/indexing.html#indexing-view-versus-copy\n",
      "  \"\"\"\n"
     ]
    }
   ],
   "source": [
    "for i in path_frame.index:\n",
    "    for j in range(2):\n",
    "        path_frame['SSIM_0_to_{}'.format(j)][i] = ssim(path_frame['Folder_0_image'][i], \n",
    "                                                       path_frame['Folder_{}_image'.format(j)][i],\n",
    "                                                       win_size=3, multichannel = True, use_sample_covariance = False\n",
    "                                                       #, win_size = 3\n",
    "                                                      )"
   ]
  },
  {
   "cell_type": "code",
   "execution_count": 10,
   "metadata": {
    "scrolled": true
   },
   "outputs": [
    {
     "data": {
      "text/html": [
       "<div>\n",
       "<style scoped>\n",
       "    .dataframe tbody tr th:only-of-type {\n",
       "        vertical-align: middle;\n",
       "    }\n",
       "\n",
       "    .dataframe tbody tr th {\n",
       "        vertical-align: top;\n",
       "    }\n",
       "\n",
       "    .dataframe thead th {\n",
       "        text-align: right;\n",
       "    }\n",
       "</style>\n",
       "<table border=\"1\" class=\"dataframe\">\n",
       "  <thead>\n",
       "    <tr style=\"text-align: right;\">\n",
       "      <th></th>\n",
       "      <th>0</th>\n",
       "      <th>1</th>\n",
       "      <th>Folder_0_image</th>\n",
       "      <th>Folder_1_image</th>\n",
       "      <th>SSIM_0_to_0</th>\n",
       "      <th>SSIM_0_to_1</th>\n",
       "    </tr>\n",
       "  </thead>\n",
       "  <tbody>\n",
       "    <tr>\n",
       "      <th>0</th>\n",
       "      <td>Explanations_ModelSearch2_Seed5_1\\id_0_Grad.png</td>\n",
       "      <td>Explanations_ModelSearch2_Seed5_2\\id_0_Grad.png</td>\n",
       "      <td>[[[63, 76, 175, 255], [65, 78, 179, 255], [65,...</td>\n",
       "      <td>[[[63, 76, 175, 255], [65, 78, 179, 255], [65,...</td>\n",
       "      <td>1.0</td>\n",
       "      <td>1.000000</td>\n",
       "    </tr>\n",
       "    <tr>\n",
       "      <th>1</th>\n",
       "      <td>Explanations_ModelSearch2_Seed5_1\\id_0_SHAP.png</td>\n",
       "      <td>Explanations_ModelSearch2_Seed5_2\\id_0_SHAP.png</td>\n",
       "      <td>[[[115, 150, 118, 255], [118, 152, 122, 255], ...</td>\n",
       "      <td>[[[152, 132, 128, 255], [156, 135, 134, 255], ...</td>\n",
       "      <td>1.0</td>\n",
       "      <td>0.910951</td>\n",
       "    </tr>\n",
       "    <tr>\n",
       "      <th>2</th>\n",
       "      <td>Explanations_ModelSearch2_Seed5_1\\id_100_Grad.png</td>\n",
       "      <td>Explanations_ModelSearch2_Seed5_2\\id_100_Grad.png</td>\n",
       "      <td>[[[89, 77, 164, 255], [88, 76, 162, 255], [88,...</td>\n",
       "      <td>[[[89, 77, 164, 255], [88, 76, 162, 255], [88,...</td>\n",
       "      <td>1.0</td>\n",
       "      <td>0.999998</td>\n",
       "    </tr>\n",
       "    <tr>\n",
       "      <th>3</th>\n",
       "      <td>Explanations_ModelSearch2_Seed5_1\\id_100_SHAP.png</td>\n",
       "      <td>Explanations_ModelSearch2_Seed5_2\\id_100_SHAP.png</td>\n",
       "      <td>[[[193, 174, 193, 255], [191, 173, 190, 255], ...</td>\n",
       "      <td>[[[133, 181, 157, 255], [132, 181, 155, 255], ...</td>\n",
       "      <td>1.0</td>\n",
       "      <td>0.892416</td>\n",
       "    </tr>\n",
       "    <tr>\n",
       "      <th>4</th>\n",
       "      <td>Explanations_ModelSearch2_Seed5_1\\id_101_Grad.png</td>\n",
       "      <td>Explanations_ModelSearch2_Seed5_2\\id_101_Grad.png</td>\n",
       "      <td>[[[93, 154, 102, 255], [96, 159, 109, 255], [9...</td>\n",
       "      <td>[[[93, 154, 102, 255], [96, 159, 109, 255], [9...</td>\n",
       "      <td>1.0</td>\n",
       "      <td>0.999999</td>\n",
       "    </tr>\n",
       "  </tbody>\n",
       "</table>\n",
       "</div>"
      ],
      "text/plain": [
       "                                                   0  \\\n",
       "0    Explanations_ModelSearch2_Seed5_1\\id_0_Grad.png   \n",
       "1    Explanations_ModelSearch2_Seed5_1\\id_0_SHAP.png   \n",
       "2  Explanations_ModelSearch2_Seed5_1\\id_100_Grad.png   \n",
       "3  Explanations_ModelSearch2_Seed5_1\\id_100_SHAP.png   \n",
       "4  Explanations_ModelSearch2_Seed5_1\\id_101_Grad.png   \n",
       "\n",
       "                                                   1  \\\n",
       "0    Explanations_ModelSearch2_Seed5_2\\id_0_Grad.png   \n",
       "1    Explanations_ModelSearch2_Seed5_2\\id_0_SHAP.png   \n",
       "2  Explanations_ModelSearch2_Seed5_2\\id_100_Grad.png   \n",
       "3  Explanations_ModelSearch2_Seed5_2\\id_100_SHAP.png   \n",
       "4  Explanations_ModelSearch2_Seed5_2\\id_101_Grad.png   \n",
       "\n",
       "                                      Folder_0_image  \\\n",
       "0  [[[63, 76, 175, 255], [65, 78, 179, 255], [65,...   \n",
       "1  [[[115, 150, 118, 255], [118, 152, 122, 255], ...   \n",
       "2  [[[89, 77, 164, 255], [88, 76, 162, 255], [88,...   \n",
       "3  [[[193, 174, 193, 255], [191, 173, 190, 255], ...   \n",
       "4  [[[93, 154, 102, 255], [96, 159, 109, 255], [9...   \n",
       "\n",
       "                                      Folder_1_image  SSIM_0_to_0  SSIM_0_to_1  \n",
       "0  [[[63, 76, 175, 255], [65, 78, 179, 255], [65,...          1.0     1.000000  \n",
       "1  [[[152, 132, 128, 255], [156, 135, 134, 255], ...          1.0     0.910951  \n",
       "2  [[[89, 77, 164, 255], [88, 76, 162, 255], [88,...          1.0     0.999998  \n",
       "3  [[[133, 181, 157, 255], [132, 181, 155, 255], ...          1.0     0.892416  \n",
       "4  [[[93, 154, 102, 255], [96, 159, 109, 255], [9...          1.0     0.999999  "
      ]
     },
     "execution_count": 10,
     "metadata": {},
     "output_type": "execute_result"
    }
   ],
   "source": [
    "path_frame.head()"
   ]
  },
  {
   "cell_type": "markdown",
   "metadata": {},
   "source": [
    "Describe the SSIM from of the images from the two different folders for GradCAM"
   ]
  },
  {
   "cell_type": "code",
   "execution_count": 11,
   "metadata": {},
   "outputs": [],
   "source": [
    "grad_df = ['Grad.png' in path_frame.iloc[i][0] for i in path_frame.index]\n",
    "grad_df = path_frame[grad_df]"
   ]
  },
  {
   "cell_type": "code",
   "execution_count": 12,
   "metadata": {},
   "outputs": [
    {
     "data": {
      "text/plain": [
       "200"
      ]
     },
     "execution_count": 12,
     "metadata": {},
     "output_type": "execute_result"
    }
   ],
   "source": [
    "len(grad_df)"
   ]
  },
  {
   "cell_type": "code",
   "execution_count": 13,
   "metadata": {},
   "outputs": [],
   "source": [
    "grad_df = grad_df.drop([1,'Folder_0_image','Folder_1_image'], axis = 1)"
   ]
  },
  {
   "cell_type": "code",
   "execution_count": 14,
   "metadata": {},
   "outputs": [],
   "source": [
    "grad_df['SSIM_Difference'] = abs(grad_df['SSIM_0_to_0'] - grad_df['SSIM_0_to_1'])"
   ]
  },
  {
   "cell_type": "code",
   "execution_count": 15,
   "metadata": {
    "scrolled": false
   },
   "outputs": [
    {
     "data": {
      "text/plain": [
       "count    2.000000e+02\n",
       "mean     9.999992e-01\n",
       "std      8.042731e-07\n",
       "min      9.999950e-01\n",
       "25%      9.999989e-01\n",
       "50%      9.999994e-01\n",
       "75%      9.999997e-01\n",
       "max      1.000000e+00\n",
       "Name: SSIM_0_to_1, dtype: float64"
      ]
     },
     "execution_count": 15,
     "metadata": {},
     "output_type": "execute_result"
    }
   ],
   "source": [
    "grad_df['SSIM_0_to_1'].describe()"
   ]
  },
  {
   "cell_type": "markdown",
   "metadata": {},
   "source": [
    "Do the same for SHAP"
   ]
  },
  {
   "cell_type": "code",
   "execution_count": 16,
   "metadata": {
    "scrolled": true
   },
   "outputs": [],
   "source": [
    "shap_df = ['SHAP.png' in path_frame.iloc[i][0] for i in path_frame.index] \n",
    "shap_df = path_frame[shap_df].drop(['Folder_0_image','Folder_1_image'], axis = 1)"
   ]
  },
  {
   "cell_type": "code",
   "execution_count": 17,
   "metadata": {
    "scrolled": false
   },
   "outputs": [
    {
     "data": {
      "text/html": [
       "<div>\n",
       "<style scoped>\n",
       "    .dataframe tbody tr th:only-of-type {\n",
       "        vertical-align: middle;\n",
       "    }\n",
       "\n",
       "    .dataframe tbody tr th {\n",
       "        vertical-align: top;\n",
       "    }\n",
       "\n",
       "    .dataframe thead th {\n",
       "        text-align: right;\n",
       "    }\n",
       "</style>\n",
       "<table border=\"1\" class=\"dataframe\">\n",
       "  <thead>\n",
       "    <tr style=\"text-align: right;\">\n",
       "      <th></th>\n",
       "      <th>0</th>\n",
       "      <th>1</th>\n",
       "      <th>SSIM_0_to_0</th>\n",
       "      <th>SSIM_0_to_1</th>\n",
       "    </tr>\n",
       "  </thead>\n",
       "  <tbody>\n",
       "    <tr>\n",
       "      <th>1</th>\n",
       "      <td>Explanations_ModelSearch2_Seed5_1\\id_0_SHAP.png</td>\n",
       "      <td>Explanations_ModelSearch2_Seed5_2\\id_0_SHAP.png</td>\n",
       "      <td>1.0</td>\n",
       "      <td>0.910951</td>\n",
       "    </tr>\n",
       "    <tr>\n",
       "      <th>3</th>\n",
       "      <td>Explanations_ModelSearch2_Seed5_1\\id_100_SHAP.png</td>\n",
       "      <td>Explanations_ModelSearch2_Seed5_2\\id_100_SHAP.png</td>\n",
       "      <td>1.0</td>\n",
       "      <td>0.892416</td>\n",
       "    </tr>\n",
       "    <tr>\n",
       "      <th>5</th>\n",
       "      <td>Explanations_ModelSearch2_Seed5_1\\id_101_SHAP.png</td>\n",
       "      <td>Explanations_ModelSearch2_Seed5_2\\id_101_SHAP.png</td>\n",
       "      <td>1.0</td>\n",
       "      <td>0.859240</td>\n",
       "    </tr>\n",
       "    <tr>\n",
       "      <th>7</th>\n",
       "      <td>Explanations_ModelSearch2_Seed5_1\\id_102_SHAP.png</td>\n",
       "      <td>Explanations_ModelSearch2_Seed5_2\\id_102_SHAP.png</td>\n",
       "      <td>1.0</td>\n",
       "      <td>0.912086</td>\n",
       "    </tr>\n",
       "    <tr>\n",
       "      <th>9</th>\n",
       "      <td>Explanations_ModelSearch2_Seed5_1\\id_103_SHAP.png</td>\n",
       "      <td>Explanations_ModelSearch2_Seed5_2\\id_103_SHAP.png</td>\n",
       "      <td>1.0</td>\n",
       "      <td>0.938382</td>\n",
       "    </tr>\n",
       "  </tbody>\n",
       "</table>\n",
       "</div>"
      ],
      "text/plain": [
       "                                                   0  \\\n",
       "1    Explanations_ModelSearch2_Seed5_1\\id_0_SHAP.png   \n",
       "3  Explanations_ModelSearch2_Seed5_1\\id_100_SHAP.png   \n",
       "5  Explanations_ModelSearch2_Seed5_1\\id_101_SHAP.png   \n",
       "7  Explanations_ModelSearch2_Seed5_1\\id_102_SHAP.png   \n",
       "9  Explanations_ModelSearch2_Seed5_1\\id_103_SHAP.png   \n",
       "\n",
       "                                                   1  SSIM_0_to_0  SSIM_0_to_1  \n",
       "1    Explanations_ModelSearch2_Seed5_2\\id_0_SHAP.png          1.0     0.910951  \n",
       "3  Explanations_ModelSearch2_Seed5_2\\id_100_SHAP.png          1.0     0.892416  \n",
       "5  Explanations_ModelSearch2_Seed5_2\\id_101_SHAP.png          1.0     0.859240  \n",
       "7  Explanations_ModelSearch2_Seed5_2\\id_102_SHAP.png          1.0     0.912086  \n",
       "9  Explanations_ModelSearch2_Seed5_2\\id_103_SHAP.png          1.0     0.938382  "
      ]
     },
     "execution_count": 17,
     "metadata": {},
     "output_type": "execute_result"
    }
   ],
   "source": [
    "shap_df.head()"
   ]
  },
  {
   "cell_type": "code",
   "execution_count": 18,
   "metadata": {},
   "outputs": [],
   "source": [
    "shap_df['SSIM_Difference'] = abs(shap_df['SSIM_0_to_0'] - shap_df['SSIM_0_to_1'])"
   ]
  },
  {
   "cell_type": "code",
   "execution_count": 19,
   "metadata": {
    "scrolled": false
   },
   "outputs": [
    {
     "data": {
      "text/plain": [
       "count    199.000000\n",
       "mean       0.928969\n",
       "std        0.028729\n",
       "min        0.859189\n",
       "25%        0.908210\n",
       "50%        0.926544\n",
       "75%        0.947553\n",
       "max        1.000000\n",
       "Name: SSIM_0_to_1, dtype: float64"
      ]
     },
     "execution_count": 19,
     "metadata": {},
     "output_type": "execute_result"
    }
   ],
   "source": [
    "shap_df['SSIM_0_to_1'].describe()"
   ]
  }
 ],
 "metadata": {
  "kernelspec": {
   "display_name": "Python 3",
   "language": "python",
   "name": "python3"
  },
  "language_info": {
   "codemirror_mode": {
    "name": "ipython",
    "version": 3
   },
   "file_extension": ".py",
   "mimetype": "text/x-python",
   "name": "python",
   "nbconvert_exporter": "python",
   "pygments_lexer": "ipython3",
   "version": "3.7.3"
  }
 },
 "nbformat": 4,
 "nbformat_minor": 2
}
