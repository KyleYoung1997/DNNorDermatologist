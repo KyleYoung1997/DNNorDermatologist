{
 "cells": [
  {
   "cell_type": "markdown",
   "metadata": {},
   "source": [
    "# SSIM for 3 different models\n",
    "\n",
    "In this notebook, we compare the outputs of the explainability methods on three different models, all of which have a similar AUC. We look at output from the explanations on the same images evaluated on the three different models. These images are in `Explanations_ModelSearch2_Seed5`, `Explanations_ModelSearch2_Seed8`, and `Explanations_ModelSearch2_Seed5`.\n",
    "\n",
    "This is for sanity check #3, the sensitivity of the methods."
   ]
  },
  {
   "cell_type": "code",
   "execution_count": 1,
   "metadata": {},
   "outputs": [],
   "source": [
    "%matplotlib inline\n",
    "import pandas as pd\n",
    "import numpy as np \n",
    "from PIL import Image\n",
    "\n",
    "from skimage.measure import compare_ssim as ssim\n",
    "import os\n",
    "from glob import glob\n",
    "import matplotlib.pyplot as plt"
   ]
  },
  {
   "cell_type": "markdown",
   "metadata": {},
   "source": [
    "Load in images from the 3 different seeds"
   ]
  },
  {
   "cell_type": "code",
   "execution_count": 2,
   "metadata": {},
   "outputs": [],
   "source": [
    "path_dict = {}\n",
    "\n",
    "for i in [5,8,11]:\n",
    "    path_dict[i] = glob('Explanations_ModelSearch2_Seed{}/*.png'.format(i),recursive=True)"
   ]
  },
  {
   "cell_type": "code",
   "execution_count": 3,
   "metadata": {},
   "outputs": [],
   "source": [
    "path_frame = pd.DataFrame.from_dict(path_dict)"
   ]
  },
  {
   "cell_type": "code",
   "execution_count": 4,
   "metadata": {},
   "outputs": [],
   "source": [
    "for i in path_dict.keys():\n",
    "    image_list = []\n",
    "    path_list = path_frame[i].tolist()\n",
    "    for j in path_list:\n",
    "        image_list.append(np.asarray(Image.open(j)))\n",
    "    path_frame['Folder_{}_image'.format(i)] = image_list\n",
    "    "
   ]
  },
  {
   "cell_type": "code",
   "execution_count": 5,
   "metadata": {
    "scrolled": true
   },
   "outputs": [
    {
     "data": {
      "text/html": [
       "<div>\n",
       "<style scoped>\n",
       "    .dataframe tbody tr th:only-of-type {\n",
       "        vertical-align: middle;\n",
       "    }\n",
       "\n",
       "    .dataframe tbody tr th {\n",
       "        vertical-align: top;\n",
       "    }\n",
       "\n",
       "    .dataframe thead th {\n",
       "        text-align: right;\n",
       "    }\n",
       "</style>\n",
       "<table border=\"1\" class=\"dataframe\">\n",
       "  <thead>\n",
       "    <tr style=\"text-align: right;\">\n",
       "      <th></th>\n",
       "      <th>5</th>\n",
       "      <th>8</th>\n",
       "      <th>11</th>\n",
       "      <th>Folder_5_image</th>\n",
       "      <th>Folder_8_image</th>\n",
       "      <th>Folder_11_image</th>\n",
       "    </tr>\n",
       "  </thead>\n",
       "  <tbody>\n",
       "    <tr>\n",
       "      <th>0</th>\n",
       "      <td>Explanations_ModelSearch2_Seed5\\id_0_Grad.png</td>\n",
       "      <td>Explanations_ModelSearch2_Seed8\\id_0_Grad.png</td>\n",
       "      <td>Explanations_ModelSearch2_Seed11\\id_0_Grad.png</td>\n",
       "      <td>[[[63, 76, 175, 255], [65, 78, 179, 255], [65,...</td>\n",
       "      <td>[[[63, 50, 140, 255], [65, 52, 144, 255], [65,...</td>\n",
       "      <td>[[[63, 50, 154, 255], [65, 52, 158, 255], [65,...</td>\n",
       "    </tr>\n",
       "    <tr>\n",
       "      <th>1</th>\n",
       "      <td>Explanations_ModelSearch2_Seed5\\id_0_SHAP.png</td>\n",
       "      <td>Explanations_ModelSearch2_Seed8\\id_0_SHAP.png</td>\n",
       "      <td>Explanations_ModelSearch2_Seed11\\id_0_SHAP.png</td>\n",
       "      <td>[[[152, 132, 128, 255], [156, 135, 134, 255], ...</td>\n",
       "      <td>[[[152, 132, 128, 255], [156, 135, 134, 255], ...</td>\n",
       "      <td>[[[152, 132, 128, 255], [156, 135, 134, 255], ...</td>\n",
       "    </tr>\n",
       "    <tr>\n",
       "      <th>2</th>\n",
       "      <td>Explanations_ModelSearch2_Seed5\\id_100_Grad.png</td>\n",
       "      <td>Explanations_ModelSearch2_Seed8\\id_100_Grad.png</td>\n",
       "      <td>Explanations_ModelSearch2_Seed11\\id_100_Grad.png</td>\n",
       "      <td>[[[89, 77, 164, 255], [88, 76, 162, 255], [88,...</td>\n",
       "      <td>[[[89, 147, 216, 255], [88, 146, 214, 255], [8...</td>\n",
       "      <td>[[[89, 77, 161, 255], [88, 76, 159, 255], [88,...</td>\n",
       "    </tr>\n",
       "    <tr>\n",
       "      <th>3</th>\n",
       "      <td>Explanations_ModelSearch2_Seed5\\id_100_SHAP.png</td>\n",
       "      <td>Explanations_ModelSearch2_Seed8\\id_100_SHAP.png</td>\n",
       "      <td>Explanations_ModelSearch2_Seed11\\id_100_SHAP.png</td>\n",
       "      <td>[[[133, 181, 157, 255], [132, 181, 155, 255], ...</td>\n",
       "      <td>[[[185, 174, 188, 255], [183, 173, 185, 255], ...</td>\n",
       "      <td>[[[176, 176, 183, 255], [174, 175, 180, 255], ...</td>\n",
       "    </tr>\n",
       "    <tr>\n",
       "      <th>4</th>\n",
       "      <td>Explanations_ModelSearch2_Seed5\\id_101_Grad.png</td>\n",
       "      <td>Explanations_ModelSearch2_Seed8\\id_101_Grad.png</td>\n",
       "      <td>Explanations_ModelSearch2_Seed11\\id_101_Grad.png</td>\n",
       "      <td>[[[93, 154, 102, 255], [96, 159, 109, 255], [9...</td>\n",
       "      <td>[[[41, 35, 158, 255], [44, 41, 166, 255], [44,...</td>\n",
       "      <td>[[[41, 27, 106, 255], [44, 33, 114, 255], [44,...</td>\n",
       "    </tr>\n",
       "  </tbody>\n",
       "</table>\n",
       "</div>"
      ],
      "text/plain": [
       "                                                 5  \\\n",
       "0    Explanations_ModelSearch2_Seed5\\id_0_Grad.png   \n",
       "1    Explanations_ModelSearch2_Seed5\\id_0_SHAP.png   \n",
       "2  Explanations_ModelSearch2_Seed5\\id_100_Grad.png   \n",
       "3  Explanations_ModelSearch2_Seed5\\id_100_SHAP.png   \n",
       "4  Explanations_ModelSearch2_Seed5\\id_101_Grad.png   \n",
       "\n",
       "                                                 8  \\\n",
       "0    Explanations_ModelSearch2_Seed8\\id_0_Grad.png   \n",
       "1    Explanations_ModelSearch2_Seed8\\id_0_SHAP.png   \n",
       "2  Explanations_ModelSearch2_Seed8\\id_100_Grad.png   \n",
       "3  Explanations_ModelSearch2_Seed8\\id_100_SHAP.png   \n",
       "4  Explanations_ModelSearch2_Seed8\\id_101_Grad.png   \n",
       "\n",
       "                                                 11  \\\n",
       "0    Explanations_ModelSearch2_Seed11\\id_0_Grad.png   \n",
       "1    Explanations_ModelSearch2_Seed11\\id_0_SHAP.png   \n",
       "2  Explanations_ModelSearch2_Seed11\\id_100_Grad.png   \n",
       "3  Explanations_ModelSearch2_Seed11\\id_100_SHAP.png   \n",
       "4  Explanations_ModelSearch2_Seed11\\id_101_Grad.png   \n",
       "\n",
       "                                      Folder_5_image  \\\n",
       "0  [[[63, 76, 175, 255], [65, 78, 179, 255], [65,...   \n",
       "1  [[[152, 132, 128, 255], [156, 135, 134, 255], ...   \n",
       "2  [[[89, 77, 164, 255], [88, 76, 162, 255], [88,...   \n",
       "3  [[[133, 181, 157, 255], [132, 181, 155, 255], ...   \n",
       "4  [[[93, 154, 102, 255], [96, 159, 109, 255], [9...   \n",
       "\n",
       "                                      Folder_8_image  \\\n",
       "0  [[[63, 50, 140, 255], [65, 52, 144, 255], [65,...   \n",
       "1  [[[152, 132, 128, 255], [156, 135, 134, 255], ...   \n",
       "2  [[[89, 147, 216, 255], [88, 146, 214, 255], [8...   \n",
       "3  [[[185, 174, 188, 255], [183, 173, 185, 255], ...   \n",
       "4  [[[41, 35, 158, 255], [44, 41, 166, 255], [44,...   \n",
       "\n",
       "                                     Folder_11_image  \n",
       "0  [[[63, 50, 154, 255], [65, 52, 158, 255], [65,...  \n",
       "1  [[[152, 132, 128, 255], [156, 135, 134, 255], ...  \n",
       "2  [[[89, 77, 161, 255], [88, 76, 159, 255], [88,...  \n",
       "3  [[[176, 176, 183, 255], [174, 175, 180, 255], ...  \n",
       "4  [[[41, 27, 106, 255], [44, 33, 114, 255], [44,...  "
      ]
     },
     "execution_count": 5,
     "metadata": {},
     "output_type": "execute_result"
    }
   ],
   "source": [
    "path_frame.head()"
   ]
  },
  {
   "cell_type": "markdown",
   "metadata": {},
   "source": [
    "Create placeholder for our results"
   ]
  },
  {
   "cell_type": "code",
   "execution_count": 6,
   "metadata": {},
   "outputs": [],
   "source": [
    "for a in [5,8,11]:\n",
    "    path_frame['SSIM_5_to_{}'.format(a)] = np.nan"
   ]
  },
  {
   "cell_type": "markdown",
   "metadata": {},
   "source": [
    "Check - SSIM of the same image should be 1."
   ]
  },
  {
   "cell_type": "code",
   "execution_count": 7,
   "metadata": {},
   "outputs": [
    {
     "data": {
      "text/plain": [
       "1.0"
      ]
     },
     "execution_count": 7,
     "metadata": {},
     "output_type": "execute_result"
    }
   ],
   "source": [
    "ssim(path_frame['Folder_5_image'][0], path_frame['Folder_5_image'][0], win_size = 3)"
   ]
  },
  {
   "cell_type": "markdown",
   "metadata": {},
   "source": [
    "Calculate all SSIM"
   ]
  },
  {
   "cell_type": "markdown",
   "metadata": {},
   "source": [
    "Calculate SSIM's between all 3 models"
   ]
  },
  {
   "cell_type": "code",
   "execution_count": 8,
   "metadata": {},
   "outputs": [
    {
     "name": "stderr",
     "output_type": "stream",
     "text": [
      "C:\\Users\\2gare\\Anaconda3\\lib\\site-packages\\ipykernel_launcher.py:4: SettingWithCopyWarning: \n",
      "A value is trying to be set on a copy of a slice from a DataFrame\n",
      "\n",
      "See the caveats in the documentation: http://pandas.pydata.org/pandas-docs/stable/indexing.html#indexing-view-versus-copy\n",
      "  after removing the cwd from sys.path.\n"
     ]
    }
   ],
   "source": [
    "for i in path_frame.index:\n",
    "    for j in [5,8,11]:\n",
    "        path_frame['SSIM_5_to_{}'.format(j)][i] = ssim(path_frame['Folder_5_image'][i], path_frame['Folder_{}_image'.format(j)][i],\n",
    "                                                       win_size=9, multichannel = True, use_sample_covariance = True)"
   ]
  },
  {
   "cell_type": "code",
   "execution_count": 9,
   "metadata": {},
   "outputs": [
    {
     "data": {
      "text/html": [
       "<div>\n",
       "<style scoped>\n",
       "    .dataframe tbody tr th:only-of-type {\n",
       "        vertical-align: middle;\n",
       "    }\n",
       "\n",
       "    .dataframe tbody tr th {\n",
       "        vertical-align: top;\n",
       "    }\n",
       "\n",
       "    .dataframe thead th {\n",
       "        text-align: right;\n",
       "    }\n",
       "</style>\n",
       "<table border=\"1\" class=\"dataframe\">\n",
       "  <thead>\n",
       "    <tr style=\"text-align: right;\">\n",
       "      <th></th>\n",
       "      <th>5</th>\n",
       "      <th>8</th>\n",
       "      <th>11</th>\n",
       "      <th>Folder_5_image</th>\n",
       "      <th>Folder_8_image</th>\n",
       "      <th>Folder_11_image</th>\n",
       "      <th>SSIM_5_to_5</th>\n",
       "      <th>SSIM_5_to_8</th>\n",
       "      <th>SSIM_5_to_11</th>\n",
       "    </tr>\n",
       "  </thead>\n",
       "  <tbody>\n",
       "    <tr>\n",
       "      <th>0</th>\n",
       "      <td>Explanations_ModelSearch2_Seed5\\id_0_Grad.png</td>\n",
       "      <td>Explanations_ModelSearch2_Seed8\\id_0_Grad.png</td>\n",
       "      <td>Explanations_ModelSearch2_Seed11\\id_0_Grad.png</td>\n",
       "      <td>[[[63, 76, 175, 255], [65, 78, 179, 255], [65,...</td>\n",
       "      <td>[[[63, 50, 140, 255], [65, 52, 144, 255], [65,...</td>\n",
       "      <td>[[[63, 50, 154, 255], [65, 52, 158, 255], [65,...</td>\n",
       "      <td>1.0</td>\n",
       "      <td>0.754678</td>\n",
       "      <td>0.932460</td>\n",
       "    </tr>\n",
       "    <tr>\n",
       "      <th>1</th>\n",
       "      <td>Explanations_ModelSearch2_Seed5\\id_0_SHAP.png</td>\n",
       "      <td>Explanations_ModelSearch2_Seed8\\id_0_SHAP.png</td>\n",
       "      <td>Explanations_ModelSearch2_Seed11\\id_0_SHAP.png</td>\n",
       "      <td>[[[152, 132, 128, 255], [156, 135, 134, 255], ...</td>\n",
       "      <td>[[[152, 132, 128, 255], [156, 135, 134, 255], ...</td>\n",
       "      <td>[[[152, 132, 128, 255], [156, 135, 134, 255], ...</td>\n",
       "      <td>1.0</td>\n",
       "      <td>0.763538</td>\n",
       "      <td>0.810252</td>\n",
       "    </tr>\n",
       "    <tr>\n",
       "      <th>2</th>\n",
       "      <td>Explanations_ModelSearch2_Seed5\\id_100_Grad.png</td>\n",
       "      <td>Explanations_ModelSearch2_Seed8\\id_100_Grad.png</td>\n",
       "      <td>Explanations_ModelSearch2_Seed11\\id_100_Grad.png</td>\n",
       "      <td>[[[89, 77, 164, 255], [88, 76, 162, 255], [88,...</td>\n",
       "      <td>[[[89, 147, 216, 255], [88, 146, 214, 255], [8...</td>\n",
       "      <td>[[[89, 77, 161, 255], [88, 76, 159, 255], [88,...</td>\n",
       "      <td>1.0</td>\n",
       "      <td>0.737879</td>\n",
       "      <td>0.907646</td>\n",
       "    </tr>\n",
       "    <tr>\n",
       "      <th>3</th>\n",
       "      <td>Explanations_ModelSearch2_Seed5\\id_100_SHAP.png</td>\n",
       "      <td>Explanations_ModelSearch2_Seed8\\id_100_SHAP.png</td>\n",
       "      <td>Explanations_ModelSearch2_Seed11\\id_100_SHAP.png</td>\n",
       "      <td>[[[133, 181, 157, 255], [132, 181, 155, 255], ...</td>\n",
       "      <td>[[[185, 174, 188, 255], [183, 173, 185, 255], ...</td>\n",
       "      <td>[[[176, 176, 183, 255], [174, 175, 180, 255], ...</td>\n",
       "      <td>1.0</td>\n",
       "      <td>0.731641</td>\n",
       "      <td>0.767326</td>\n",
       "    </tr>\n",
       "    <tr>\n",
       "      <th>4</th>\n",
       "      <td>Explanations_ModelSearch2_Seed5\\id_101_Grad.png</td>\n",
       "      <td>Explanations_ModelSearch2_Seed8\\id_101_Grad.png</td>\n",
       "      <td>Explanations_ModelSearch2_Seed11\\id_101_Grad.png</td>\n",
       "      <td>[[[93, 154, 102, 255], [96, 159, 109, 255], [9...</td>\n",
       "      <td>[[[41, 35, 158, 255], [44, 41, 166, 255], [44,...</td>\n",
       "      <td>[[[41, 27, 106, 255], [44, 33, 114, 255], [44,...</td>\n",
       "      <td>1.0</td>\n",
       "      <td>0.744901</td>\n",
       "      <td>0.789537</td>\n",
       "    </tr>\n",
       "  </tbody>\n",
       "</table>\n",
       "</div>"
      ],
      "text/plain": [
       "                                                 5  \\\n",
       "0    Explanations_ModelSearch2_Seed5\\id_0_Grad.png   \n",
       "1    Explanations_ModelSearch2_Seed5\\id_0_SHAP.png   \n",
       "2  Explanations_ModelSearch2_Seed5\\id_100_Grad.png   \n",
       "3  Explanations_ModelSearch2_Seed5\\id_100_SHAP.png   \n",
       "4  Explanations_ModelSearch2_Seed5\\id_101_Grad.png   \n",
       "\n",
       "                                                 8  \\\n",
       "0    Explanations_ModelSearch2_Seed8\\id_0_Grad.png   \n",
       "1    Explanations_ModelSearch2_Seed8\\id_0_SHAP.png   \n",
       "2  Explanations_ModelSearch2_Seed8\\id_100_Grad.png   \n",
       "3  Explanations_ModelSearch2_Seed8\\id_100_SHAP.png   \n",
       "4  Explanations_ModelSearch2_Seed8\\id_101_Grad.png   \n",
       "\n",
       "                                                 11  \\\n",
       "0    Explanations_ModelSearch2_Seed11\\id_0_Grad.png   \n",
       "1    Explanations_ModelSearch2_Seed11\\id_0_SHAP.png   \n",
       "2  Explanations_ModelSearch2_Seed11\\id_100_Grad.png   \n",
       "3  Explanations_ModelSearch2_Seed11\\id_100_SHAP.png   \n",
       "4  Explanations_ModelSearch2_Seed11\\id_101_Grad.png   \n",
       "\n",
       "                                      Folder_5_image  \\\n",
       "0  [[[63, 76, 175, 255], [65, 78, 179, 255], [65,...   \n",
       "1  [[[152, 132, 128, 255], [156, 135, 134, 255], ...   \n",
       "2  [[[89, 77, 164, 255], [88, 76, 162, 255], [88,...   \n",
       "3  [[[133, 181, 157, 255], [132, 181, 155, 255], ...   \n",
       "4  [[[93, 154, 102, 255], [96, 159, 109, 255], [9...   \n",
       "\n",
       "                                      Folder_8_image  \\\n",
       "0  [[[63, 50, 140, 255], [65, 52, 144, 255], [65,...   \n",
       "1  [[[152, 132, 128, 255], [156, 135, 134, 255], ...   \n",
       "2  [[[89, 147, 216, 255], [88, 146, 214, 255], [8...   \n",
       "3  [[[185, 174, 188, 255], [183, 173, 185, 255], ...   \n",
       "4  [[[41, 35, 158, 255], [44, 41, 166, 255], [44,...   \n",
       "\n",
       "                                     Folder_11_image  SSIM_5_to_5  \\\n",
       "0  [[[63, 50, 154, 255], [65, 52, 158, 255], [65,...          1.0   \n",
       "1  [[[152, 132, 128, 255], [156, 135, 134, 255], ...          1.0   \n",
       "2  [[[89, 77, 161, 255], [88, 76, 159, 255], [88,...          1.0   \n",
       "3  [[[176, 176, 183, 255], [174, 175, 180, 255], ...          1.0   \n",
       "4  [[[41, 27, 106, 255], [44, 33, 114, 255], [44,...          1.0   \n",
       "\n",
       "   SSIM_5_to_8  SSIM_5_to_11  \n",
       "0     0.754678      0.932460  \n",
       "1     0.763538      0.810252  \n",
       "2     0.737879      0.907646  \n",
       "3     0.731641      0.767326  \n",
       "4     0.744901      0.789537  "
      ]
     },
     "execution_count": 9,
     "metadata": {},
     "output_type": "execute_result"
    }
   ],
   "source": [
    "path_frame.head()"
   ]
  },
  {
   "cell_type": "markdown",
   "metadata": {},
   "source": [
    "Separate SHAP and GradCAM results, and remove extra columns"
   ]
  },
  {
   "cell_type": "code",
   "execution_count": 10,
   "metadata": {},
   "outputs": [],
   "source": [
    "shap_df = ['SHAP.png' in path_frame.iloc[i][5] for i in path_frame.index] \n",
    "shap_df = path_frame[shap_df].drop([5, 8,11,'Folder_5_image','Folder_8_image','Folder_11_image'], axis = 1)"
   ]
  },
  {
   "cell_type": "code",
   "execution_count": 11,
   "metadata": {},
   "outputs": [],
   "source": [
    "grad_df = ['Grad.png' in path_frame.iloc[i][5] for i in path_frame.index] \n",
    "grad_df = path_frame[grad_df].drop([5, 8,11,'Folder_5_image','Folder_8_image','Folder_11_image'], axis = 1)"
   ]
  },
  {
   "cell_type": "code",
   "execution_count": 12,
   "metadata": {},
   "outputs": [],
   "source": [
    "grad_df.describe().to_csv('grad_sensitivity_stat.csv')"
   ]
  },
  {
   "cell_type": "code",
   "execution_count": 13,
   "metadata": {},
   "outputs": [],
   "source": [
    "shap_df.describe().to_csv('shap_sensitivity_stat.csv')"
   ]
  }
 ],
 "metadata": {
  "kernelspec": {
   "display_name": "Python 3",
   "language": "python",
   "name": "python3"
  },
  "language_info": {
   "codemirror_mode": {
    "name": "ipython",
    "version": 3
   },
   "file_extension": ".py",
   "mimetype": "text/x-python",
   "name": "python",
   "nbconvert_exporter": "python",
   "pygments_lexer": "ipython3",
   "version": "3.7.3"
  }
 },
 "nbformat": 4,
 "nbformat_minor": 2
}
