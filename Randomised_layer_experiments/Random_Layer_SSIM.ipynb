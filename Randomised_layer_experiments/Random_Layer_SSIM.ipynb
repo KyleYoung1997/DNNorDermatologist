{
 "cells": [
  {
   "cell_type": "markdown",
   "metadata": {},
   "source": [
    "# Randomized Layer Experiments\n",
    "\n",
    "In these experiments, explanations for images output from the same model with randomized weights at different layers are compared for similarity using scikit-learn's SSIM. This is for sanity check #2. "
   ]
  },
  {
   "cell_type": "code",
   "execution_count": 1,
   "metadata": {},
   "outputs": [],
   "source": [
    "%matplotlib inline\n",
    "import pandas as pd\n",
    "import numpy as np \n",
    "from PIL import Image\n",
    "\n",
    "from skimage.measure import compare_ssim as ssim\n",
    "import os\n",
    "from glob import glob\n",
    "import matplotlib.pyplot as plt"
   ]
  },
  {
   "cell_type": "code",
   "execution_count": 2,
   "metadata": {},
   "outputs": [],
   "source": [
    "path_dict = {}"
   ]
  },
  {
   "cell_type": "markdown",
   "metadata": {},
   "source": [
    "Get paths to all images"
   ]
  },
  {
   "cell_type": "code",
   "execution_count": 3,
   "metadata": {},
   "outputs": [],
   "source": [
    "for i in range(7):\n",
    "    path_dict[i] = glob('Explanations_TEST_Scramble_{}/*.png'.format(i),recursive=True)"
   ]
  },
  {
   "cell_type": "code",
   "execution_count": 4,
   "metadata": {
    "scrolled": true
   },
   "outputs": [
    {
     "data": {
      "text/html": [
       "<div>\n",
       "<style scoped>\n",
       "    .dataframe tbody tr th:only-of-type {\n",
       "        vertical-align: middle;\n",
       "    }\n",
       "\n",
       "    .dataframe tbody tr th {\n",
       "        vertical-align: top;\n",
       "    }\n",
       "\n",
       "    .dataframe thead th {\n",
       "        text-align: right;\n",
       "    }\n",
       "</style>\n",
       "<table border=\"1\" class=\"dataframe\">\n",
       "  <thead>\n",
       "    <tr style=\"text-align: right;\">\n",
       "      <th></th>\n",
       "      <th>0</th>\n",
       "      <th>1</th>\n",
       "      <th>2</th>\n",
       "      <th>3</th>\n",
       "      <th>4</th>\n",
       "      <th>5</th>\n",
       "      <th>6</th>\n",
       "    </tr>\n",
       "  </thead>\n",
       "  <tbody>\n",
       "    <tr>\n",
       "      <th>0</th>\n",
       "      <td>Explanations_TEST_Scramble_0\\id_13_Grad.png</td>\n",
       "      <td>Explanations_TEST_Scramble_1\\id_13_Grad.png</td>\n",
       "      <td>Explanations_TEST_Scramble_2\\id_13_Grad.png</td>\n",
       "      <td>Explanations_TEST_Scramble_3\\id_13_Grad.png</td>\n",
       "      <td>Explanations_TEST_Scramble_4\\id_13_Grad.png</td>\n",
       "      <td>Explanations_TEST_Scramble_5\\id_13_Grad.png</td>\n",
       "      <td>Explanations_TEST_Scramble_6\\id_13_Grad.png</td>\n",
       "    </tr>\n",
       "    <tr>\n",
       "      <th>1</th>\n",
       "      <td>Explanations_TEST_Scramble_0\\id_13_SHAP.png</td>\n",
       "      <td>Explanations_TEST_Scramble_1\\id_13_SHAP.png</td>\n",
       "      <td>Explanations_TEST_Scramble_2\\id_13_SHAP.png</td>\n",
       "      <td>Explanations_TEST_Scramble_3\\id_13_SHAP.png</td>\n",
       "      <td>Explanations_TEST_Scramble_4\\id_13_SHAP.png</td>\n",
       "      <td>Explanations_TEST_Scramble_5\\id_13_SHAP.png</td>\n",
       "      <td>Explanations_TEST_Scramble_6\\id_13_SHAP.png</td>\n",
       "    </tr>\n",
       "    <tr>\n",
       "      <th>2</th>\n",
       "      <td>Explanations_TEST_Scramble_0\\id_17_Grad.png</td>\n",
       "      <td>Explanations_TEST_Scramble_1\\id_17_Grad.png</td>\n",
       "      <td>Explanations_TEST_Scramble_2\\id_17_Grad.png</td>\n",
       "      <td>Explanations_TEST_Scramble_3\\id_17_Grad.png</td>\n",
       "      <td>Explanations_TEST_Scramble_4\\id_17_Grad.png</td>\n",
       "      <td>Explanations_TEST_Scramble_5\\id_17_Grad.png</td>\n",
       "      <td>Explanations_TEST_Scramble_6\\id_17_Grad.png</td>\n",
       "    </tr>\n",
       "    <tr>\n",
       "      <th>3</th>\n",
       "      <td>Explanations_TEST_Scramble_0\\id_17_SHAP.png</td>\n",
       "      <td>Explanations_TEST_Scramble_1\\id_17_SHAP.png</td>\n",
       "      <td>Explanations_TEST_Scramble_2\\id_17_SHAP.png</td>\n",
       "      <td>Explanations_TEST_Scramble_3\\id_17_SHAP.png</td>\n",
       "      <td>Explanations_TEST_Scramble_4\\id_17_SHAP.png</td>\n",
       "      <td>Explanations_TEST_Scramble_5\\id_17_SHAP.png</td>\n",
       "      <td>Explanations_TEST_Scramble_6\\id_17_SHAP.png</td>\n",
       "    </tr>\n",
       "    <tr>\n",
       "      <th>4</th>\n",
       "      <td>Explanations_TEST_Scramble_0\\id_18_Grad.png</td>\n",
       "      <td>Explanations_TEST_Scramble_1\\id_18_Grad.png</td>\n",
       "      <td>Explanations_TEST_Scramble_2\\id_18_Grad.png</td>\n",
       "      <td>Explanations_TEST_Scramble_3\\id_18_Grad.png</td>\n",
       "      <td>Explanations_TEST_Scramble_4\\id_18_Grad.png</td>\n",
       "      <td>Explanations_TEST_Scramble_5\\id_18_Grad.png</td>\n",
       "      <td>Explanations_TEST_Scramble_6\\id_18_Grad.png</td>\n",
       "    </tr>\n",
       "    <tr>\n",
       "      <th>5</th>\n",
       "      <td>Explanations_TEST_Scramble_0\\id_18_SHAP.png</td>\n",
       "      <td>Explanations_TEST_Scramble_1\\id_18_SHAP.png</td>\n",
       "      <td>Explanations_TEST_Scramble_2\\id_18_SHAP.png</td>\n",
       "      <td>Explanations_TEST_Scramble_3\\id_18_SHAP.png</td>\n",
       "      <td>Explanations_TEST_Scramble_4\\id_18_SHAP.png</td>\n",
       "      <td>Explanations_TEST_Scramble_5\\id_18_SHAP.png</td>\n",
       "      <td>Explanations_TEST_Scramble_6\\id_18_SHAP.png</td>\n",
       "    </tr>\n",
       "    <tr>\n",
       "      <th>6</th>\n",
       "      <td>Explanations_TEST_Scramble_0\\id_1_Grad.png</td>\n",
       "      <td>Explanations_TEST_Scramble_1\\id_1_Grad.png</td>\n",
       "      <td>Explanations_TEST_Scramble_2\\id_1_Grad.png</td>\n",
       "      <td>Explanations_TEST_Scramble_3\\id_1_Grad.png</td>\n",
       "      <td>Explanations_TEST_Scramble_4\\id_1_Grad.png</td>\n",
       "      <td>Explanations_TEST_Scramble_5\\id_1_Grad.png</td>\n",
       "      <td>Explanations_TEST_Scramble_6\\id_1_Grad.png</td>\n",
       "    </tr>\n",
       "    <tr>\n",
       "      <th>7</th>\n",
       "      <td>Explanations_TEST_Scramble_0\\id_1_SHAP.png</td>\n",
       "      <td>Explanations_TEST_Scramble_1\\id_1_SHAP.png</td>\n",
       "      <td>Explanations_TEST_Scramble_2\\id_1_SHAP.png</td>\n",
       "      <td>Explanations_TEST_Scramble_3\\id_1_SHAP.png</td>\n",
       "      <td>Explanations_TEST_Scramble_4\\id_1_SHAP.png</td>\n",
       "      <td>Explanations_TEST_Scramble_5\\id_1_SHAP.png</td>\n",
       "      <td>Explanations_TEST_Scramble_6\\id_1_SHAP.png</td>\n",
       "    </tr>\n",
       "    <tr>\n",
       "      <th>8</th>\n",
       "      <td>Explanations_TEST_Scramble_0\\id_200_Grad.png</td>\n",
       "      <td>Explanations_TEST_Scramble_1\\id_200_Grad.png</td>\n",
       "      <td>Explanations_TEST_Scramble_2\\id_200_Grad.png</td>\n",
       "      <td>Explanations_TEST_Scramble_3\\id_200_Grad.png</td>\n",
       "      <td>Explanations_TEST_Scramble_4\\id_200_Grad.png</td>\n",
       "      <td>Explanations_TEST_Scramble_5\\id_200_Grad.png</td>\n",
       "      <td>Explanations_TEST_Scramble_6\\id_200_Grad.png</td>\n",
       "    </tr>\n",
       "    <tr>\n",
       "      <th>9</th>\n",
       "      <td>Explanations_TEST_Scramble_0\\id_200_SHAP.png</td>\n",
       "      <td>Explanations_TEST_Scramble_1\\id_200_SHAP.png</td>\n",
       "      <td>Explanations_TEST_Scramble_2\\id_200_SHAP.png</td>\n",
       "      <td>Explanations_TEST_Scramble_3\\id_200_SHAP.png</td>\n",
       "      <td>Explanations_TEST_Scramble_4\\id_200_SHAP.png</td>\n",
       "      <td>Explanations_TEST_Scramble_5\\id_200_SHAP.png</td>\n",
       "      <td>Explanations_TEST_Scramble_6\\id_200_SHAP.png</td>\n",
       "    </tr>\n",
       "    <tr>\n",
       "      <th>10</th>\n",
       "      <td>Explanations_TEST_Scramble_0\\id_204_Grad.png</td>\n",
       "      <td>Explanations_TEST_Scramble_1\\id_204_Grad.png</td>\n",
       "      <td>Explanations_TEST_Scramble_2\\id_204_Grad.png</td>\n",
       "      <td>Explanations_TEST_Scramble_3\\id_204_Grad.png</td>\n",
       "      <td>Explanations_TEST_Scramble_4\\id_204_Grad.png</td>\n",
       "      <td>Explanations_TEST_Scramble_5\\id_204_Grad.png</td>\n",
       "      <td>Explanations_TEST_Scramble_6\\id_204_Grad.png</td>\n",
       "    </tr>\n",
       "    <tr>\n",
       "      <th>11</th>\n",
       "      <td>Explanations_TEST_Scramble_0\\id_204_SHAP.png</td>\n",
       "      <td>Explanations_TEST_Scramble_1\\id_204_SHAP.png</td>\n",
       "      <td>Explanations_TEST_Scramble_2\\id_204_SHAP.png</td>\n",
       "      <td>Explanations_TEST_Scramble_3\\id_204_SHAP.png</td>\n",
       "      <td>Explanations_TEST_Scramble_4\\id_204_SHAP.png</td>\n",
       "      <td>Explanations_TEST_Scramble_5\\id_204_SHAP.png</td>\n",
       "      <td>Explanations_TEST_Scramble_6\\id_204_SHAP.png</td>\n",
       "    </tr>\n",
       "    <tr>\n",
       "      <th>12</th>\n",
       "      <td>Explanations_TEST_Scramble_0\\id_210_Grad.png</td>\n",
       "      <td>Explanations_TEST_Scramble_1\\id_210_Grad.png</td>\n",
       "      <td>Explanations_TEST_Scramble_2\\id_210_Grad.png</td>\n",
       "      <td>Explanations_TEST_Scramble_3\\id_210_Grad.png</td>\n",
       "      <td>Explanations_TEST_Scramble_4\\id_210_Grad.png</td>\n",
       "      <td>Explanations_TEST_Scramble_5\\id_210_Grad.png</td>\n",
       "      <td>Explanations_TEST_Scramble_6\\id_210_Grad.png</td>\n",
       "    </tr>\n",
       "    <tr>\n",
       "      <th>13</th>\n",
       "      <td>Explanations_TEST_Scramble_0\\id_210_SHAP.png</td>\n",
       "      <td>Explanations_TEST_Scramble_1\\id_210_SHAP.png</td>\n",
       "      <td>Explanations_TEST_Scramble_2\\id_210_SHAP.png</td>\n",
       "      <td>Explanations_TEST_Scramble_3\\id_210_SHAP.png</td>\n",
       "      <td>Explanations_TEST_Scramble_4\\id_210_SHAP.png</td>\n",
       "      <td>Explanations_TEST_Scramble_5\\id_210_SHAP.png</td>\n",
       "      <td>Explanations_TEST_Scramble_6\\id_210_SHAP.png</td>\n",
       "    </tr>\n",
       "    <tr>\n",
       "      <th>14</th>\n",
       "      <td>Explanations_TEST_Scramble_0\\id_212_Grad.png</td>\n",
       "      <td>Explanations_TEST_Scramble_1\\id_212_Grad.png</td>\n",
       "      <td>Explanations_TEST_Scramble_2\\id_212_Grad.png</td>\n",
       "      <td>Explanations_TEST_Scramble_3\\id_212_Grad.png</td>\n",
       "      <td>Explanations_TEST_Scramble_4\\id_212_Grad.png</td>\n",
       "      <td>Explanations_TEST_Scramble_5\\id_212_Grad.png</td>\n",
       "      <td>Explanations_TEST_Scramble_6\\id_212_Grad.png</td>\n",
       "    </tr>\n",
       "    <tr>\n",
       "      <th>15</th>\n",
       "      <td>Explanations_TEST_Scramble_0\\id_212_SHAP.png</td>\n",
       "      <td>Explanations_TEST_Scramble_1\\id_212_SHAP.png</td>\n",
       "      <td>Explanations_TEST_Scramble_2\\id_212_SHAP.png</td>\n",
       "      <td>Explanations_TEST_Scramble_3\\id_212_SHAP.png</td>\n",
       "      <td>Explanations_TEST_Scramble_4\\id_212_SHAP.png</td>\n",
       "      <td>Explanations_TEST_Scramble_5\\id_212_SHAP.png</td>\n",
       "      <td>Explanations_TEST_Scramble_6\\id_212_SHAP.png</td>\n",
       "    </tr>\n",
       "    <tr>\n",
       "      <th>16</th>\n",
       "      <td>Explanations_TEST_Scramble_0\\id_217_Grad.png</td>\n",
       "      <td>Explanations_TEST_Scramble_1\\id_217_Grad.png</td>\n",
       "      <td>Explanations_TEST_Scramble_2\\id_217_Grad.png</td>\n",
       "      <td>Explanations_TEST_Scramble_3\\id_217_Grad.png</td>\n",
       "      <td>Explanations_TEST_Scramble_4\\id_217_Grad.png</td>\n",
       "      <td>Explanations_TEST_Scramble_5\\id_217_Grad.png</td>\n",
       "      <td>Explanations_TEST_Scramble_6\\id_217_Grad.png</td>\n",
       "    </tr>\n",
       "    <tr>\n",
       "      <th>17</th>\n",
       "      <td>Explanations_TEST_Scramble_0\\id_217_SHAP.png</td>\n",
       "      <td>Explanations_TEST_Scramble_1\\id_217_SHAP.png</td>\n",
       "      <td>Explanations_TEST_Scramble_2\\id_217_SHAP.png</td>\n",
       "      <td>Explanations_TEST_Scramble_3\\id_217_SHAP.png</td>\n",
       "      <td>Explanations_TEST_Scramble_4\\id_217_SHAP.png</td>\n",
       "      <td>Explanations_TEST_Scramble_5\\id_217_SHAP.png</td>\n",
       "      <td>Explanations_TEST_Scramble_6\\id_217_SHAP.png</td>\n",
       "    </tr>\n",
       "    <tr>\n",
       "      <th>18</th>\n",
       "      <td>Explanations_TEST_Scramble_0\\id_219_Grad.png</td>\n",
       "      <td>Explanations_TEST_Scramble_1\\id_219_Grad.png</td>\n",
       "      <td>Explanations_TEST_Scramble_2\\id_219_Grad.png</td>\n",
       "      <td>Explanations_TEST_Scramble_3\\id_219_Grad.png</td>\n",
       "      <td>Explanations_TEST_Scramble_4\\id_219_Grad.png</td>\n",
       "      <td>Explanations_TEST_Scramble_5\\id_219_Grad.png</td>\n",
       "      <td>Explanations_TEST_Scramble_6\\id_219_Grad.png</td>\n",
       "    </tr>\n",
       "    <tr>\n",
       "      <th>19</th>\n",
       "      <td>Explanations_TEST_Scramble_0\\id_219_SHAP.png</td>\n",
       "      <td>Explanations_TEST_Scramble_1\\id_219_SHAP.png</td>\n",
       "      <td>Explanations_TEST_Scramble_2\\id_219_SHAP.png</td>\n",
       "      <td>Explanations_TEST_Scramble_3\\id_219_SHAP.png</td>\n",
       "      <td>Explanations_TEST_Scramble_4\\id_219_SHAP.png</td>\n",
       "      <td>Explanations_TEST_Scramble_5\\id_219_SHAP.png</td>\n",
       "      <td>Explanations_TEST_Scramble_6\\id_219_SHAP.png</td>\n",
       "    </tr>\n",
       "    <tr>\n",
       "      <th>20</th>\n",
       "      <td>Explanations_TEST_Scramble_0\\id_21_Grad.png</td>\n",
       "      <td>Explanations_TEST_Scramble_1\\id_21_Grad.png</td>\n",
       "      <td>Explanations_TEST_Scramble_2\\id_21_Grad.png</td>\n",
       "      <td>Explanations_TEST_Scramble_3\\id_21_Grad.png</td>\n",
       "      <td>Explanations_TEST_Scramble_4\\id_21_Grad.png</td>\n",
       "      <td>Explanations_TEST_Scramble_5\\id_21_Grad.png</td>\n",
       "      <td>Explanations_TEST_Scramble_6\\id_21_Grad.png</td>\n",
       "    </tr>\n",
       "    <tr>\n",
       "      <th>21</th>\n",
       "      <td>Explanations_TEST_Scramble_0\\id_21_SHAP.png</td>\n",
       "      <td>Explanations_TEST_Scramble_1\\id_21_SHAP.png</td>\n",
       "      <td>Explanations_TEST_Scramble_2\\id_21_SHAP.png</td>\n",
       "      <td>Explanations_TEST_Scramble_3\\id_21_SHAP.png</td>\n",
       "      <td>Explanations_TEST_Scramble_4\\id_21_SHAP.png</td>\n",
       "      <td>Explanations_TEST_Scramble_5\\id_21_SHAP.png</td>\n",
       "      <td>Explanations_TEST_Scramble_6\\id_21_SHAP.png</td>\n",
       "    </tr>\n",
       "    <tr>\n",
       "      <th>22</th>\n",
       "      <td>Explanations_TEST_Scramble_0\\id_223_Grad.png</td>\n",
       "      <td>Explanations_TEST_Scramble_1\\id_223_Grad.png</td>\n",
       "      <td>Explanations_TEST_Scramble_2\\id_223_Grad.png</td>\n",
       "      <td>Explanations_TEST_Scramble_3\\id_223_Grad.png</td>\n",
       "      <td>Explanations_TEST_Scramble_4\\id_223_Grad.png</td>\n",
       "      <td>Explanations_TEST_Scramble_5\\id_223_Grad.png</td>\n",
       "      <td>Explanations_TEST_Scramble_6\\id_223_Grad.png</td>\n",
       "    </tr>\n",
       "    <tr>\n",
       "      <th>23</th>\n",
       "      <td>Explanations_TEST_Scramble_0\\id_223_SHAP.png</td>\n",
       "      <td>Explanations_TEST_Scramble_1\\id_223_SHAP.png</td>\n",
       "      <td>Explanations_TEST_Scramble_2\\id_223_SHAP.png</td>\n",
       "      <td>Explanations_TEST_Scramble_3\\id_223_SHAP.png</td>\n",
       "      <td>Explanations_TEST_Scramble_4\\id_223_SHAP.png</td>\n",
       "      <td>Explanations_TEST_Scramble_5\\id_223_SHAP.png</td>\n",
       "      <td>Explanations_TEST_Scramble_6\\id_223_SHAP.png</td>\n",
       "    </tr>\n",
       "    <tr>\n",
       "      <th>24</th>\n",
       "      <td>Explanations_TEST_Scramble_0\\id_226_Grad.png</td>\n",
       "      <td>Explanations_TEST_Scramble_1\\id_226_Grad.png</td>\n",
       "      <td>Explanations_TEST_Scramble_2\\id_226_Grad.png</td>\n",
       "      <td>Explanations_TEST_Scramble_3\\id_226_Grad.png</td>\n",
       "      <td>Explanations_TEST_Scramble_4\\id_226_Grad.png</td>\n",
       "      <td>Explanations_TEST_Scramble_5\\id_226_Grad.png</td>\n",
       "      <td>Explanations_TEST_Scramble_6\\id_226_Grad.png</td>\n",
       "    </tr>\n",
       "    <tr>\n",
       "      <th>25</th>\n",
       "      <td>Explanations_TEST_Scramble_0\\id_226_SHAP.png</td>\n",
       "      <td>Explanations_TEST_Scramble_1\\id_226_SHAP.png</td>\n",
       "      <td>Explanations_TEST_Scramble_2\\id_226_SHAP.png</td>\n",
       "      <td>Explanations_TEST_Scramble_3\\id_226_SHAP.png</td>\n",
       "      <td>Explanations_TEST_Scramble_4\\id_226_SHAP.png</td>\n",
       "      <td>Explanations_TEST_Scramble_5\\id_226_SHAP.png</td>\n",
       "      <td>Explanations_TEST_Scramble_6\\id_226_SHAP.png</td>\n",
       "    </tr>\n",
       "    <tr>\n",
       "      <th>26</th>\n",
       "      <td>Explanations_TEST_Scramble_0\\id_6_Grad.png</td>\n",
       "      <td>Explanations_TEST_Scramble_1\\id_6_Grad.png</td>\n",
       "      <td>Explanations_TEST_Scramble_2\\id_6_Grad.png</td>\n",
       "      <td>Explanations_TEST_Scramble_3\\id_6_Grad.png</td>\n",
       "      <td>Explanations_TEST_Scramble_4\\id_6_Grad.png</td>\n",
       "      <td>Explanations_TEST_Scramble_5\\id_6_Grad.png</td>\n",
       "      <td>Explanations_TEST_Scramble_6\\id_6_Grad.png</td>\n",
       "    </tr>\n",
       "    <tr>\n",
       "      <th>27</th>\n",
       "      <td>Explanations_TEST_Scramble_0\\id_6_SHAP.png</td>\n",
       "      <td>Explanations_TEST_Scramble_1\\id_6_SHAP.png</td>\n",
       "      <td>Explanations_TEST_Scramble_2\\id_6_SHAP.png</td>\n",
       "      <td>Explanations_TEST_Scramble_3\\id_6_SHAP.png</td>\n",
       "      <td>Explanations_TEST_Scramble_4\\id_6_SHAP.png</td>\n",
       "      <td>Explanations_TEST_Scramble_5\\id_6_SHAP.png</td>\n",
       "      <td>Explanations_TEST_Scramble_6\\id_6_SHAP.png</td>\n",
       "    </tr>\n",
       "    <tr>\n",
       "      <th>28</th>\n",
       "      <td>Explanations_TEST_Scramble_0\\id_72_Grad.png</td>\n",
       "      <td>Explanations_TEST_Scramble_1\\id_72_Grad.png</td>\n",
       "      <td>Explanations_TEST_Scramble_2\\id_72_Grad.png</td>\n",
       "      <td>Explanations_TEST_Scramble_3\\id_72_Grad.png</td>\n",
       "      <td>Explanations_TEST_Scramble_4\\id_72_Grad.png</td>\n",
       "      <td>Explanations_TEST_Scramble_5\\id_72_Grad.png</td>\n",
       "      <td>Explanations_TEST_Scramble_6\\id_72_Grad.png</td>\n",
       "    </tr>\n",
       "    <tr>\n",
       "      <th>29</th>\n",
       "      <td>Explanations_TEST_Scramble_0\\id_72_SHAP.png</td>\n",
       "      <td>Explanations_TEST_Scramble_1\\id_72_SHAP.png</td>\n",
       "      <td>Explanations_TEST_Scramble_2\\id_72_SHAP.png</td>\n",
       "      <td>Explanations_TEST_Scramble_3\\id_72_SHAP.png</td>\n",
       "      <td>Explanations_TEST_Scramble_4\\id_72_SHAP.png</td>\n",
       "      <td>Explanations_TEST_Scramble_5\\id_72_SHAP.png</td>\n",
       "      <td>Explanations_TEST_Scramble_6\\id_72_SHAP.png</td>\n",
       "    </tr>\n",
       "    <tr>\n",
       "      <th>30</th>\n",
       "      <td>Explanations_TEST_Scramble_0\\id_80_Grad.png</td>\n",
       "      <td>Explanations_TEST_Scramble_1\\id_80_Grad.png</td>\n",
       "      <td>Explanations_TEST_Scramble_2\\id_80_Grad.png</td>\n",
       "      <td>Explanations_TEST_Scramble_3\\id_80_Grad.png</td>\n",
       "      <td>Explanations_TEST_Scramble_4\\id_80_Grad.png</td>\n",
       "      <td>Explanations_TEST_Scramble_5\\id_80_Grad.png</td>\n",
       "      <td>Explanations_TEST_Scramble_6\\id_80_Grad.png</td>\n",
       "    </tr>\n",
       "    <tr>\n",
       "      <th>31</th>\n",
       "      <td>Explanations_TEST_Scramble_0\\id_80_SHAP.png</td>\n",
       "      <td>Explanations_TEST_Scramble_1\\id_80_SHAP.png</td>\n",
       "      <td>Explanations_TEST_Scramble_2\\id_80_SHAP.png</td>\n",
       "      <td>Explanations_TEST_Scramble_3\\id_80_SHAP.png</td>\n",
       "      <td>Explanations_TEST_Scramble_4\\id_80_SHAP.png</td>\n",
       "      <td>Explanations_TEST_Scramble_5\\id_80_SHAP.png</td>\n",
       "      <td>Explanations_TEST_Scramble_6\\id_80_SHAP.png</td>\n",
       "    </tr>\n",
       "  </tbody>\n",
       "</table>\n",
       "</div>"
      ],
      "text/plain": [
       "                                               0  \\\n",
       "0    Explanations_TEST_Scramble_0\\id_13_Grad.png   \n",
       "1    Explanations_TEST_Scramble_0\\id_13_SHAP.png   \n",
       "2    Explanations_TEST_Scramble_0\\id_17_Grad.png   \n",
       "3    Explanations_TEST_Scramble_0\\id_17_SHAP.png   \n",
       "4    Explanations_TEST_Scramble_0\\id_18_Grad.png   \n",
       "5    Explanations_TEST_Scramble_0\\id_18_SHAP.png   \n",
       "6     Explanations_TEST_Scramble_0\\id_1_Grad.png   \n",
       "7     Explanations_TEST_Scramble_0\\id_1_SHAP.png   \n",
       "8   Explanations_TEST_Scramble_0\\id_200_Grad.png   \n",
       "9   Explanations_TEST_Scramble_0\\id_200_SHAP.png   \n",
       "10  Explanations_TEST_Scramble_0\\id_204_Grad.png   \n",
       "11  Explanations_TEST_Scramble_0\\id_204_SHAP.png   \n",
       "12  Explanations_TEST_Scramble_0\\id_210_Grad.png   \n",
       "13  Explanations_TEST_Scramble_0\\id_210_SHAP.png   \n",
       "14  Explanations_TEST_Scramble_0\\id_212_Grad.png   \n",
       "15  Explanations_TEST_Scramble_0\\id_212_SHAP.png   \n",
       "16  Explanations_TEST_Scramble_0\\id_217_Grad.png   \n",
       "17  Explanations_TEST_Scramble_0\\id_217_SHAP.png   \n",
       "18  Explanations_TEST_Scramble_0\\id_219_Grad.png   \n",
       "19  Explanations_TEST_Scramble_0\\id_219_SHAP.png   \n",
       "20   Explanations_TEST_Scramble_0\\id_21_Grad.png   \n",
       "21   Explanations_TEST_Scramble_0\\id_21_SHAP.png   \n",
       "22  Explanations_TEST_Scramble_0\\id_223_Grad.png   \n",
       "23  Explanations_TEST_Scramble_0\\id_223_SHAP.png   \n",
       "24  Explanations_TEST_Scramble_0\\id_226_Grad.png   \n",
       "25  Explanations_TEST_Scramble_0\\id_226_SHAP.png   \n",
       "26    Explanations_TEST_Scramble_0\\id_6_Grad.png   \n",
       "27    Explanations_TEST_Scramble_0\\id_6_SHAP.png   \n",
       "28   Explanations_TEST_Scramble_0\\id_72_Grad.png   \n",
       "29   Explanations_TEST_Scramble_0\\id_72_SHAP.png   \n",
       "30   Explanations_TEST_Scramble_0\\id_80_Grad.png   \n",
       "31   Explanations_TEST_Scramble_0\\id_80_SHAP.png   \n",
       "\n",
       "                                               1  \\\n",
       "0    Explanations_TEST_Scramble_1\\id_13_Grad.png   \n",
       "1    Explanations_TEST_Scramble_1\\id_13_SHAP.png   \n",
       "2    Explanations_TEST_Scramble_1\\id_17_Grad.png   \n",
       "3    Explanations_TEST_Scramble_1\\id_17_SHAP.png   \n",
       "4    Explanations_TEST_Scramble_1\\id_18_Grad.png   \n",
       "5    Explanations_TEST_Scramble_1\\id_18_SHAP.png   \n",
       "6     Explanations_TEST_Scramble_1\\id_1_Grad.png   \n",
       "7     Explanations_TEST_Scramble_1\\id_1_SHAP.png   \n",
       "8   Explanations_TEST_Scramble_1\\id_200_Grad.png   \n",
       "9   Explanations_TEST_Scramble_1\\id_200_SHAP.png   \n",
       "10  Explanations_TEST_Scramble_1\\id_204_Grad.png   \n",
       "11  Explanations_TEST_Scramble_1\\id_204_SHAP.png   \n",
       "12  Explanations_TEST_Scramble_1\\id_210_Grad.png   \n",
       "13  Explanations_TEST_Scramble_1\\id_210_SHAP.png   \n",
       "14  Explanations_TEST_Scramble_1\\id_212_Grad.png   \n",
       "15  Explanations_TEST_Scramble_1\\id_212_SHAP.png   \n",
       "16  Explanations_TEST_Scramble_1\\id_217_Grad.png   \n",
       "17  Explanations_TEST_Scramble_1\\id_217_SHAP.png   \n",
       "18  Explanations_TEST_Scramble_1\\id_219_Grad.png   \n",
       "19  Explanations_TEST_Scramble_1\\id_219_SHAP.png   \n",
       "20   Explanations_TEST_Scramble_1\\id_21_Grad.png   \n",
       "21   Explanations_TEST_Scramble_1\\id_21_SHAP.png   \n",
       "22  Explanations_TEST_Scramble_1\\id_223_Grad.png   \n",
       "23  Explanations_TEST_Scramble_1\\id_223_SHAP.png   \n",
       "24  Explanations_TEST_Scramble_1\\id_226_Grad.png   \n",
       "25  Explanations_TEST_Scramble_1\\id_226_SHAP.png   \n",
       "26    Explanations_TEST_Scramble_1\\id_6_Grad.png   \n",
       "27    Explanations_TEST_Scramble_1\\id_6_SHAP.png   \n",
       "28   Explanations_TEST_Scramble_1\\id_72_Grad.png   \n",
       "29   Explanations_TEST_Scramble_1\\id_72_SHAP.png   \n",
       "30   Explanations_TEST_Scramble_1\\id_80_Grad.png   \n",
       "31   Explanations_TEST_Scramble_1\\id_80_SHAP.png   \n",
       "\n",
       "                                               2  \\\n",
       "0    Explanations_TEST_Scramble_2\\id_13_Grad.png   \n",
       "1    Explanations_TEST_Scramble_2\\id_13_SHAP.png   \n",
       "2    Explanations_TEST_Scramble_2\\id_17_Grad.png   \n",
       "3    Explanations_TEST_Scramble_2\\id_17_SHAP.png   \n",
       "4    Explanations_TEST_Scramble_2\\id_18_Grad.png   \n",
       "5    Explanations_TEST_Scramble_2\\id_18_SHAP.png   \n",
       "6     Explanations_TEST_Scramble_2\\id_1_Grad.png   \n",
       "7     Explanations_TEST_Scramble_2\\id_1_SHAP.png   \n",
       "8   Explanations_TEST_Scramble_2\\id_200_Grad.png   \n",
       "9   Explanations_TEST_Scramble_2\\id_200_SHAP.png   \n",
       "10  Explanations_TEST_Scramble_2\\id_204_Grad.png   \n",
       "11  Explanations_TEST_Scramble_2\\id_204_SHAP.png   \n",
       "12  Explanations_TEST_Scramble_2\\id_210_Grad.png   \n",
       "13  Explanations_TEST_Scramble_2\\id_210_SHAP.png   \n",
       "14  Explanations_TEST_Scramble_2\\id_212_Grad.png   \n",
       "15  Explanations_TEST_Scramble_2\\id_212_SHAP.png   \n",
       "16  Explanations_TEST_Scramble_2\\id_217_Grad.png   \n",
       "17  Explanations_TEST_Scramble_2\\id_217_SHAP.png   \n",
       "18  Explanations_TEST_Scramble_2\\id_219_Grad.png   \n",
       "19  Explanations_TEST_Scramble_2\\id_219_SHAP.png   \n",
       "20   Explanations_TEST_Scramble_2\\id_21_Grad.png   \n",
       "21   Explanations_TEST_Scramble_2\\id_21_SHAP.png   \n",
       "22  Explanations_TEST_Scramble_2\\id_223_Grad.png   \n",
       "23  Explanations_TEST_Scramble_2\\id_223_SHAP.png   \n",
       "24  Explanations_TEST_Scramble_2\\id_226_Grad.png   \n",
       "25  Explanations_TEST_Scramble_2\\id_226_SHAP.png   \n",
       "26    Explanations_TEST_Scramble_2\\id_6_Grad.png   \n",
       "27    Explanations_TEST_Scramble_2\\id_6_SHAP.png   \n",
       "28   Explanations_TEST_Scramble_2\\id_72_Grad.png   \n",
       "29   Explanations_TEST_Scramble_2\\id_72_SHAP.png   \n",
       "30   Explanations_TEST_Scramble_2\\id_80_Grad.png   \n",
       "31   Explanations_TEST_Scramble_2\\id_80_SHAP.png   \n",
       "\n",
       "                                               3  \\\n",
       "0    Explanations_TEST_Scramble_3\\id_13_Grad.png   \n",
       "1    Explanations_TEST_Scramble_3\\id_13_SHAP.png   \n",
       "2    Explanations_TEST_Scramble_3\\id_17_Grad.png   \n",
       "3    Explanations_TEST_Scramble_3\\id_17_SHAP.png   \n",
       "4    Explanations_TEST_Scramble_3\\id_18_Grad.png   \n",
       "5    Explanations_TEST_Scramble_3\\id_18_SHAP.png   \n",
       "6     Explanations_TEST_Scramble_3\\id_1_Grad.png   \n",
       "7     Explanations_TEST_Scramble_3\\id_1_SHAP.png   \n",
       "8   Explanations_TEST_Scramble_3\\id_200_Grad.png   \n",
       "9   Explanations_TEST_Scramble_3\\id_200_SHAP.png   \n",
       "10  Explanations_TEST_Scramble_3\\id_204_Grad.png   \n",
       "11  Explanations_TEST_Scramble_3\\id_204_SHAP.png   \n",
       "12  Explanations_TEST_Scramble_3\\id_210_Grad.png   \n",
       "13  Explanations_TEST_Scramble_3\\id_210_SHAP.png   \n",
       "14  Explanations_TEST_Scramble_3\\id_212_Grad.png   \n",
       "15  Explanations_TEST_Scramble_3\\id_212_SHAP.png   \n",
       "16  Explanations_TEST_Scramble_3\\id_217_Grad.png   \n",
       "17  Explanations_TEST_Scramble_3\\id_217_SHAP.png   \n",
       "18  Explanations_TEST_Scramble_3\\id_219_Grad.png   \n",
       "19  Explanations_TEST_Scramble_3\\id_219_SHAP.png   \n",
       "20   Explanations_TEST_Scramble_3\\id_21_Grad.png   \n",
       "21   Explanations_TEST_Scramble_3\\id_21_SHAP.png   \n",
       "22  Explanations_TEST_Scramble_3\\id_223_Grad.png   \n",
       "23  Explanations_TEST_Scramble_3\\id_223_SHAP.png   \n",
       "24  Explanations_TEST_Scramble_3\\id_226_Grad.png   \n",
       "25  Explanations_TEST_Scramble_3\\id_226_SHAP.png   \n",
       "26    Explanations_TEST_Scramble_3\\id_6_Grad.png   \n",
       "27    Explanations_TEST_Scramble_3\\id_6_SHAP.png   \n",
       "28   Explanations_TEST_Scramble_3\\id_72_Grad.png   \n",
       "29   Explanations_TEST_Scramble_3\\id_72_SHAP.png   \n",
       "30   Explanations_TEST_Scramble_3\\id_80_Grad.png   \n",
       "31   Explanations_TEST_Scramble_3\\id_80_SHAP.png   \n",
       "\n",
       "                                               4  \\\n",
       "0    Explanations_TEST_Scramble_4\\id_13_Grad.png   \n",
       "1    Explanations_TEST_Scramble_4\\id_13_SHAP.png   \n",
       "2    Explanations_TEST_Scramble_4\\id_17_Grad.png   \n",
       "3    Explanations_TEST_Scramble_4\\id_17_SHAP.png   \n",
       "4    Explanations_TEST_Scramble_4\\id_18_Grad.png   \n",
       "5    Explanations_TEST_Scramble_4\\id_18_SHAP.png   \n",
       "6     Explanations_TEST_Scramble_4\\id_1_Grad.png   \n",
       "7     Explanations_TEST_Scramble_4\\id_1_SHAP.png   \n",
       "8   Explanations_TEST_Scramble_4\\id_200_Grad.png   \n",
       "9   Explanations_TEST_Scramble_4\\id_200_SHAP.png   \n",
       "10  Explanations_TEST_Scramble_4\\id_204_Grad.png   \n",
       "11  Explanations_TEST_Scramble_4\\id_204_SHAP.png   \n",
       "12  Explanations_TEST_Scramble_4\\id_210_Grad.png   \n",
       "13  Explanations_TEST_Scramble_4\\id_210_SHAP.png   \n",
       "14  Explanations_TEST_Scramble_4\\id_212_Grad.png   \n",
       "15  Explanations_TEST_Scramble_4\\id_212_SHAP.png   \n",
       "16  Explanations_TEST_Scramble_4\\id_217_Grad.png   \n",
       "17  Explanations_TEST_Scramble_4\\id_217_SHAP.png   \n",
       "18  Explanations_TEST_Scramble_4\\id_219_Grad.png   \n",
       "19  Explanations_TEST_Scramble_4\\id_219_SHAP.png   \n",
       "20   Explanations_TEST_Scramble_4\\id_21_Grad.png   \n",
       "21   Explanations_TEST_Scramble_4\\id_21_SHAP.png   \n",
       "22  Explanations_TEST_Scramble_4\\id_223_Grad.png   \n",
       "23  Explanations_TEST_Scramble_4\\id_223_SHAP.png   \n",
       "24  Explanations_TEST_Scramble_4\\id_226_Grad.png   \n",
       "25  Explanations_TEST_Scramble_4\\id_226_SHAP.png   \n",
       "26    Explanations_TEST_Scramble_4\\id_6_Grad.png   \n",
       "27    Explanations_TEST_Scramble_4\\id_6_SHAP.png   \n",
       "28   Explanations_TEST_Scramble_4\\id_72_Grad.png   \n",
       "29   Explanations_TEST_Scramble_4\\id_72_SHAP.png   \n",
       "30   Explanations_TEST_Scramble_4\\id_80_Grad.png   \n",
       "31   Explanations_TEST_Scramble_4\\id_80_SHAP.png   \n",
       "\n",
       "                                               5  \\\n",
       "0    Explanations_TEST_Scramble_5\\id_13_Grad.png   \n",
       "1    Explanations_TEST_Scramble_5\\id_13_SHAP.png   \n",
       "2    Explanations_TEST_Scramble_5\\id_17_Grad.png   \n",
       "3    Explanations_TEST_Scramble_5\\id_17_SHAP.png   \n",
       "4    Explanations_TEST_Scramble_5\\id_18_Grad.png   \n",
       "5    Explanations_TEST_Scramble_5\\id_18_SHAP.png   \n",
       "6     Explanations_TEST_Scramble_5\\id_1_Grad.png   \n",
       "7     Explanations_TEST_Scramble_5\\id_1_SHAP.png   \n",
       "8   Explanations_TEST_Scramble_5\\id_200_Grad.png   \n",
       "9   Explanations_TEST_Scramble_5\\id_200_SHAP.png   \n",
       "10  Explanations_TEST_Scramble_5\\id_204_Grad.png   \n",
       "11  Explanations_TEST_Scramble_5\\id_204_SHAP.png   \n",
       "12  Explanations_TEST_Scramble_5\\id_210_Grad.png   \n",
       "13  Explanations_TEST_Scramble_5\\id_210_SHAP.png   \n",
       "14  Explanations_TEST_Scramble_5\\id_212_Grad.png   \n",
       "15  Explanations_TEST_Scramble_5\\id_212_SHAP.png   \n",
       "16  Explanations_TEST_Scramble_5\\id_217_Grad.png   \n",
       "17  Explanations_TEST_Scramble_5\\id_217_SHAP.png   \n",
       "18  Explanations_TEST_Scramble_5\\id_219_Grad.png   \n",
       "19  Explanations_TEST_Scramble_5\\id_219_SHAP.png   \n",
       "20   Explanations_TEST_Scramble_5\\id_21_Grad.png   \n",
       "21   Explanations_TEST_Scramble_5\\id_21_SHAP.png   \n",
       "22  Explanations_TEST_Scramble_5\\id_223_Grad.png   \n",
       "23  Explanations_TEST_Scramble_5\\id_223_SHAP.png   \n",
       "24  Explanations_TEST_Scramble_5\\id_226_Grad.png   \n",
       "25  Explanations_TEST_Scramble_5\\id_226_SHAP.png   \n",
       "26    Explanations_TEST_Scramble_5\\id_6_Grad.png   \n",
       "27    Explanations_TEST_Scramble_5\\id_6_SHAP.png   \n",
       "28   Explanations_TEST_Scramble_5\\id_72_Grad.png   \n",
       "29   Explanations_TEST_Scramble_5\\id_72_SHAP.png   \n",
       "30   Explanations_TEST_Scramble_5\\id_80_Grad.png   \n",
       "31   Explanations_TEST_Scramble_5\\id_80_SHAP.png   \n",
       "\n",
       "                                               6  \n",
       "0    Explanations_TEST_Scramble_6\\id_13_Grad.png  \n",
       "1    Explanations_TEST_Scramble_6\\id_13_SHAP.png  \n",
       "2    Explanations_TEST_Scramble_6\\id_17_Grad.png  \n",
       "3    Explanations_TEST_Scramble_6\\id_17_SHAP.png  \n",
       "4    Explanations_TEST_Scramble_6\\id_18_Grad.png  \n",
       "5    Explanations_TEST_Scramble_6\\id_18_SHAP.png  \n",
       "6     Explanations_TEST_Scramble_6\\id_1_Grad.png  \n",
       "7     Explanations_TEST_Scramble_6\\id_1_SHAP.png  \n",
       "8   Explanations_TEST_Scramble_6\\id_200_Grad.png  \n",
       "9   Explanations_TEST_Scramble_6\\id_200_SHAP.png  \n",
       "10  Explanations_TEST_Scramble_6\\id_204_Grad.png  \n",
       "11  Explanations_TEST_Scramble_6\\id_204_SHAP.png  \n",
       "12  Explanations_TEST_Scramble_6\\id_210_Grad.png  \n",
       "13  Explanations_TEST_Scramble_6\\id_210_SHAP.png  \n",
       "14  Explanations_TEST_Scramble_6\\id_212_Grad.png  \n",
       "15  Explanations_TEST_Scramble_6\\id_212_SHAP.png  \n",
       "16  Explanations_TEST_Scramble_6\\id_217_Grad.png  \n",
       "17  Explanations_TEST_Scramble_6\\id_217_SHAP.png  \n",
       "18  Explanations_TEST_Scramble_6\\id_219_Grad.png  \n",
       "19  Explanations_TEST_Scramble_6\\id_219_SHAP.png  \n",
       "20   Explanations_TEST_Scramble_6\\id_21_Grad.png  \n",
       "21   Explanations_TEST_Scramble_6\\id_21_SHAP.png  \n",
       "22  Explanations_TEST_Scramble_6\\id_223_Grad.png  \n",
       "23  Explanations_TEST_Scramble_6\\id_223_SHAP.png  \n",
       "24  Explanations_TEST_Scramble_6\\id_226_Grad.png  \n",
       "25  Explanations_TEST_Scramble_6\\id_226_SHAP.png  \n",
       "26    Explanations_TEST_Scramble_6\\id_6_Grad.png  \n",
       "27    Explanations_TEST_Scramble_6\\id_6_SHAP.png  \n",
       "28   Explanations_TEST_Scramble_6\\id_72_Grad.png  \n",
       "29   Explanations_TEST_Scramble_6\\id_72_SHAP.png  \n",
       "30   Explanations_TEST_Scramble_6\\id_80_Grad.png  \n",
       "31   Explanations_TEST_Scramble_6\\id_80_SHAP.png  "
      ]
     },
     "execution_count": 4,
     "metadata": {},
     "output_type": "execute_result"
    }
   ],
   "source": [
    "path_frame = pd.DataFrame.from_dict(path_dict)\n",
    "path_frame"
   ]
  },
  {
   "cell_type": "markdown",
   "metadata": {},
   "source": [
    "Load all images, add images to dataframe"
   ]
  },
  {
   "cell_type": "code",
   "execution_count": 5,
   "metadata": {
    "scrolled": false
   },
   "outputs": [],
   "source": [
    "for i in path_dict.keys():\n",
    "    image_list = []\n",
    "    path_list = path_frame[i].tolist()\n",
    "    for j in path_list:\n",
    "        image_list.append(np.asarray(Image.open(j)))\n",
    "    path_frame['Folder_{}_image'.format(i)] = image_list\n",
    "    "
   ]
  },
  {
   "cell_type": "markdown",
   "metadata": {},
   "source": [
    "Add placeholder rows for SSIM, we will compare the SSIM of the unscrambled model to the progressively scrabled models "
   ]
  },
  {
   "cell_type": "code",
   "execution_count": 6,
   "metadata": {},
   "outputs": [],
   "source": [
    "for a in range(7):\n",
    "    path_frame['SSIM_0_to_{}'.format(a)] = np.nan"
   ]
  },
  {
   "cell_type": "markdown",
   "metadata": {},
   "source": [
    "SSIM of the same image should be one"
   ]
  },
  {
   "cell_type": "code",
   "execution_count": 7,
   "metadata": {
    "scrolled": true
   },
   "outputs": [
    {
     "data": {
      "text/plain": [
       "1.0"
      ]
     },
     "execution_count": 7,
     "metadata": {},
     "output_type": "execute_result"
    }
   ],
   "source": [
    "ssim(path_frame['Folder_0_image'][0], path_frame['Folder_0_image'][0], win_size = 3)"
   ]
  },
  {
   "cell_type": "markdown",
   "metadata": {},
   "source": [
    "Calcualte all SSIM's between all models for all images "
   ]
  },
  {
   "cell_type": "code",
   "execution_count": null,
   "metadata": {
    "scrolled": false
   },
   "outputs": [
    {
     "name": "stderr",
     "output_type": "stream",
     "text": [
      "C:\\Users\\s4435302\\AppData\\Local\\Continuum\\anaconda3\\lib\\site-packages\\ipykernel_launcher.py:4: SettingWithCopyWarning: \n",
      "A value is trying to be set on a copy of a slice from a DataFrame\n",
      "\n",
      "See the caveats in the documentation: http://pandas.pydata.org/pandas-docs/stable/indexing.html#indexing-view-versus-copy\n",
      "  after removing the cwd from sys.path.\n"
     ]
    }
   ],
   "source": [
    "for i in path_frame.index:\n",
    "    for j in range(7):\n",
    "        path_frame['SSIM_0_to_{}'.format(j)][i] = ssim(path_frame['Folder_0_image'][i], path_frame['Folder_{}_image'.format(j)][i],\n",
    "                                                       win_size=9, multichannel = True, use_sample_covariance = True)"
   ]
  },
  {
   "cell_type": "code",
   "execution_count": null,
   "metadata": {
    "scrolled": true
   },
   "outputs": [],
   "source": [
    "path_frame.head()"
   ]
  },
  {
   "cell_type": "code",
   "execution_count": null,
   "metadata": {},
   "outputs": [],
   "source": [
    "# update dataframe with a column of the explanation type\n",
    "path_frame['SHAP or GradCAM'] = [\n",
    "    'Grad' if 'Grad.png' in path_frame.iloc[i][0] else 'Shap' for i in path_frame.index\n",
    "]\n",
    "\n",
    "# parse image id from the filename\n",
    "path_frame['ID'] = [\n",
    "    os.path.split(i)[1].split('_')[1] for i in path_frame[0]\n",
    "]\n",
    "\n",
    "# drop all unneeded columns\n",
    "path_frame = path_frame.drop(list(range(7)) + ['Folder_{}_image'.format(i) for i in range(7)], axis=1)"
   ]
  },
  {
   "cell_type": "code",
   "execution_count": null,
   "metadata": {
    "scrolled": false
   },
   "outputs": [],
   "source": [
    "path_frame.head()"
   ]
  },
  {
   "cell_type": "code",
   "execution_count": null,
   "metadata": {
    "scrolled": true
   },
   "outputs": [],
   "source": [
    "df = path_frame\n",
    "df_shap = df['SHAP or GradCAM'] == 'Shap'\n",
    "df_shap = df[df_shap]\n",
    "df_shap = df_shap.drop('SHAP or GradCAM', axis = 1)\n",
    "df_shap"
   ]
  },
  {
   "cell_type": "code",
   "execution_count": null,
   "metadata": {
    "scrolled": true
   },
   "outputs": [],
   "source": [
    "df_grad = df['SHAP or GradCAM'] == 'Grad'\n",
    "df_grad = df[df_grad]\n",
    "df_grad = df_grad.drop('SHAP or GradCAM', axis = 1)\n",
    "df_grad"
   ]
  },
  {
   "cell_type": "markdown",
   "metadata": {},
   "source": [
    "Save data and descriptions"
   ]
  },
  {
   "cell_type": "code",
   "execution_count": null,
   "metadata": {},
   "outputs": [],
   "source": [
    "df_shap.to_csv('shap_random_layers.csv')"
   ]
  },
  {
   "cell_type": "code",
   "execution_count": null,
   "metadata": {},
   "outputs": [],
   "source": [
    "df_grad.to_csv('grad_random_layers.csv')"
   ]
  },
  {
   "cell_type": "code",
   "execution_count": null,
   "metadata": {},
   "outputs": [],
   "source": [
    "shap_describe = df_shap.describe()"
   ]
  },
  {
   "cell_type": "code",
   "execution_count": null,
   "metadata": {},
   "outputs": [],
   "source": [
    "grad_describe = df_grad.describe()"
   ]
  },
  {
   "cell_type": "code",
   "execution_count": null,
   "metadata": {},
   "outputs": [],
   "source": [
    "shap_describe.to_csv('shap_random_layers_stats.csv')"
   ]
  },
  {
   "cell_type": "code",
   "execution_count": null,
   "metadata": {},
   "outputs": [],
   "source": [
    "grad_describe.to_csv('grad_random_layers_stats.csv')"
   ]
  },
  {
   "cell_type": "markdown",
   "metadata": {},
   "source": [
    "Describe and plot all shap data"
   ]
  },
  {
   "cell_type": "code",
   "execution_count": null,
   "metadata": {
    "scrolled": false
   },
   "outputs": [],
   "source": [
    "shap_describe"
   ]
  },
  {
   "cell_type": "code",
   "execution_count": null,
   "metadata": {},
   "outputs": [],
   "source": [
    "shap_describe.loc['mean']"
   ]
  },
  {
   "cell_type": "code",
   "execution_count": null,
   "metadata": {},
   "outputs": [],
   "source": [
    "shap_dict = {}\n",
    "shap_dict['SSIM'] = shap_describe.loc['mean']\n",
    "shap_dict['Layers Scrambled'] = [0,1,2,3,4,5,6]"
   ]
  },
  {
   "cell_type": "code",
   "execution_count": null,
   "metadata": {
    "scrolled": true
   },
   "outputs": [],
   "source": [
    "plt.xlabel('Layers Scrambled')\n",
    "plt.ylabel('SSIM')\n",
    "plt.title('')\n",
    "plt.plot('Layers Scrambled', 'SSIM', data = shap_dict, color = 'black', lw = 1, marker = '.')\n"
   ]
  },
  {
   "cell_type": "markdown",
   "metadata": {},
   "source": [
    "Describe and plot all GradCAM data"
   ]
  },
  {
   "cell_type": "code",
   "execution_count": null,
   "metadata": {
    "scrolled": true
   },
   "outputs": [],
   "source": [
    "grad_describe"
   ]
  },
  {
   "cell_type": "code",
   "execution_count": null,
   "metadata": {},
   "outputs": [],
   "source": [
    "grad_dict = {}\n",
    "grad_dict['SSIM'] = grad_describe.loc['mean']\n",
    "grad_dict['Layers Scrambled'] = [0,1,2,3,4,5,6]"
   ]
  },
  {
   "cell_type": "code",
   "execution_count": null,
   "metadata": {
    "scrolled": false
   },
   "outputs": [],
   "source": [
    "plt.xlabel('Layers Scrambled')\n",
    "plt.ylabel('SSIM')\n",
    "plt.title('')\n",
    "plt.plot('Layers Scrambled', 'SSIM', data = grad_dict, color = 'black', lw = 1, marker = '.')\n"
   ]
  },
  {
   "cell_type": "markdown",
   "metadata": {},
   "source": [
    "### Change to SSIM difference \n",
    "\n",
    "We now calcualte statistics on the differences of SSIM's, from scrabled layers 0 to 1, 1 to 2, etc."
   ]
  },
  {
   "cell_type": "code",
   "execution_count": null,
   "metadata": {},
   "outputs": [],
   "source": [
    "diff_shap = df.loc[df['SHAP or GradCAM'] == 'Shap']\n",
    "diff_grad = df.loc[df['SHAP or GradCAM'] == 'Grad']"
   ]
  },
  {
   "cell_type": "code",
   "execution_count": null,
   "metadata": {
    "scrolled": true
   },
   "outputs": [],
   "source": [
    "diff_shap['Diff_0_to_1'] = abs(diff_shap['SSIM_0_to_0'] - diff_shap['SSIM_0_to_1'])\n",
    "diff_shap['Diff_1_to_2'] = abs(diff_shap['SSIM_0_to_1'] - diff_shap['SSIM_0_to_2'])\n",
    "diff_shap['Diff_2_to_3'] = abs(diff_shap['SSIM_0_to_2'] - diff_shap['SSIM_0_to_3'])\n",
    "diff_shap['Diff_3_to_4'] = abs(diff_shap['SSIM_0_to_3'] - diff_shap['SSIM_0_to_4'])\n",
    "diff_shap['Diff_4_to_5'] = abs(diff_shap['SSIM_0_to_4'] - diff_shap['SSIM_0_to_5'])\n",
    "diff_shap['Diff_5_to_6'] = abs(diff_shap['SSIM_0_to_5'] - diff_shap['SSIM_0_to_6'])"
   ]
  },
  {
   "cell_type": "code",
   "execution_count": null,
   "metadata": {
    "scrolled": true
   },
   "outputs": [],
   "source": [
    "diff_shap.head()"
   ]
  },
  {
   "cell_type": "code",
   "execution_count": null,
   "metadata": {},
   "outputs": [],
   "source": [
    "diff_shap = diff_shap[['Diff_0_to_1','Diff_1_to_2','Diff_2_to_3','Diff_3_to_4','Diff_4_to_5','Diff_5_to_6']]"
   ]
  },
  {
   "cell_type": "code",
   "execution_count": null,
   "metadata": {
    "scrolled": false
   },
   "outputs": [],
   "source": [
    "diff_shap.describe()"
   ]
  },
  {
   "cell_type": "markdown",
   "metadata": {},
   "source": [
    "The same for GradCAM"
   ]
  },
  {
   "cell_type": "code",
   "execution_count": null,
   "metadata": {
    "scrolled": true
   },
   "outputs": [],
   "source": [
    "diff_grad['Diff_0_to_1'] = abs(diff_grad['SSIM_0_to_0'] - diff_grad['SSIM_0_to_1'])\n",
    "diff_grad['Diff_1_to_2'] = abs(diff_grad['SSIM_0_to_1'] - diff_grad['SSIM_0_to_2'])\n",
    "diff_grad['Diff_2_to_3'] = abs(diff_grad['SSIM_0_to_2'] - diff_grad['SSIM_0_to_3'])\n",
    "diff_grad['Diff_3_to_4'] = abs(diff_grad['SSIM_0_to_3'] - diff_grad['SSIM_0_to_4'])\n",
    "diff_grad['Diff_4_to_5'] = abs(diff_grad['SSIM_0_to_4'] - diff_grad['SSIM_0_to_5'])\n",
    "diff_grad['Diff_5_to_6'] = abs(diff_grad['SSIM_0_to_5'] - diff_grad['SSIM_0_to_6'])"
   ]
  },
  {
   "cell_type": "code",
   "execution_count": null,
   "metadata": {},
   "outputs": [],
   "source": [
    "diff_grad = diff_grad[['Diff_0_to_1','Diff_1_to_2','Diff_2_to_3','Diff_3_to_4','Diff_4_to_5','Diff_5_to_6']]"
   ]
  },
  {
   "cell_type": "code",
   "execution_count": null,
   "metadata": {
    "scrolled": true
   },
   "outputs": [],
   "source": [
    "diff_grad.describe()"
   ]
  },
  {
   "cell_type": "code",
   "execution_count": null,
   "metadata": {},
   "outputs": [],
   "source": [
    "diff_grad.describe().to_csv('random_layer_differences_grad.csv')\n",
    "diff_grad.describe().to_csv('random_layer_differences_shap.csv')"
   ]
  }
 ],
 "metadata": {
  "kernelspec": {
   "display_name": "Python 3",
   "language": "python",
   "name": "python3"
  },
  "language_info": {
   "codemirror_mode": {
    "name": "ipython",
    "version": 3
   },
   "file_extension": ".py",
   "mimetype": "text/x-python",
   "name": "python",
   "nbconvert_exporter": "python",
   "pygments_lexer": "ipython3",
   "version": "3.7.3"
  }
 },
 "nbformat": 4,
 "nbformat_minor": 2
}
